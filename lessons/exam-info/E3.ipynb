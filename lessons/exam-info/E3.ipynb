{
 "cells": [
  {
   "cell_type": "markdown",
   "id": "289b6ee0-e4bd-4de1-ad41-2b91ccc230d6",
   "metadata": {},
   "source": [
    "# E2 Exam 3\n",
    "\n",
    "- Exams are high-stakes, summative assessments. \n",
    "- They measure the individual’s ability to recall, understand, and apply the course material. \n",
    "- They are one of two instruments in this course which measures your mastery of the learning outcomes.\n",
    "- **This exam 3 of 4**\n",
    "- All exams together total 90 points of the 256 that make up your grade in the course ~ 35% of your grade.\n",
    "- **You will have 25 minutes to complete 22 exam questions**.\n",
    "- Exam will be on paper: you will not need a computer to complete the exam.\n",
    "- Each exam focuses on specific lessons, but due to the nature of the course material, all exams are cumulative.\n",
    "- Exams are closed book. No use of notes, Jupyterhub, or any outside resources.\n",
    "- Students can bring a one page cheat sheet with typed or hand written notes and/or code samples.\n",
    "- Questions consist of multiple choice, fill-in-the blank, and short-answer.\n",
    "- If you require a special testing accommodation, you should schedule to take the exam in the CDS testing center as it will be difficult to accommodate exam time extensions in class.\n",
    "- There are no make-up exams. Exam dates are posted on the syllabus, please plan accordingly.\n",
    "- **Exam is issued at the beginning of your Small Group. It will start promptly so arrive on time. You will not get extra time if you arrive late.**\n",
    "\n",
    "## This exam focuses on these lessons:\n",
    "\n",
    "- Lesson 07: Files\n",
    "- Lesson 08: Lists\n",
    "    - Specific List methods/functions: sort(), sorted(), remove(), pop(), insert(), append(), len()\n",
    "- Lesson 09: Dictionaries, JSON\n",
    "    - Specific JSON methods: json.load(), json.loads(), json.dump(), json.dumps()\n",
    "    - Specific dict methods: get(), items()\n",
    "- Know how to access composite types such as: `list` of `dict` or `dict` with `lists`. And Know when there are errors. \n",
    "\n",
    "## Know the concepts, know how they are applied\n",
    "\n",
    "- You will be expected to know the concept: what it is and how that concept is applied in Python code.\n",
    "- Get the conepts from the slides, labs, and assigned readings under **Required Before Large Group**\n",
    "\n",
    "### Examples:\n",
    "\n",
    "- Concept: `File Handle`\n",
    "  - What: a variable that represents access to a file's contents.\n",
    "  - Example: `with open(\"a\",\"r\") as f:` (f is the file handle)\n",
    "- Concept: `Dictionary Key`\n",
    "  - What: a string used to retrieve a value from a dictionary.\n",
    "  - Example \n",
    "  ```\n",
    "  c = { 'a' : 1 } # Creates a dictionary with key 'a'\n",
    "  print(c['a'])   # gets the value 1 under the key 'a'\n",
    "  ```\n",
    "- Concept: `Lists are iterable`\n",
    "  - What: The `list` type can be iterated over,:\n",
    "  - Example: \n",
    "  ```\n",
    "      values = [2,2,3,4]\n",
    "      for val in values:\n",
    "          print(val, end = \" \")\n",
    "    OUTPUT:\n",
    "    2 2 3 4\n",
    "  ```\n",
    "- Concept: `list slice`\n",
    "  - What: `list` types can be sliced like strings.\n",
    "  - Examples: \n",
    "    - `x = [4,3,2,5]`\n",
    "    - `x[1:2] == [3, 2]`\n",
    "- Concept: `dictionaries are iterable`\n",
    "  - What: Using `items()` which return a key/value part for each item in the `dict`\n",
    "  - Examples: \n",
    "    ```\n",
    "    d = { \"a\" : 1, \"b\": \"today\", \"c\": 3.4 }\n",
    "    for key, val in d.items():\n",
    "        print(key,\"==\",val)\n",
    "        \n",
    "    OUTPUT:\n",
    "    a == 1\n",
    "    b == today\n",
    "    c == 3.4\n",
    "    ```\n"
   ]
  },
  {
   "cell_type": "code",
   "execution_count": 2,
   "id": "40cf207c-86fd-4d51-a5fd-5f97afdb0617",
   "metadata": {},
   "outputs": [],
   "source": [
    "x = {\"a\": \"qwerty\", \"b\": [2, 4, 6, 8], \"c\": {\"d\": 1}}"
   ]
  },
  {
   "cell_type": "code",
   "execution_count": 3,
   "id": "b6d76c51-42f2-49eb-b331-0cf7b9c9be91",
   "metadata": {
    "tags": []
   },
   "outputs": [
    {
     "data": {
      "text/plain": [
       "dict"
      ]
     },
     "execution_count": 3,
     "metadata": {},
     "output_type": "execute_result"
    }
   ],
   "source": [
    "type(x)"
   ]
  },
  {
   "cell_type": "code",
   "execution_count": 4,
   "id": "e044e5f5-e9bf-4f40-a280-5d8b9ffc1720",
   "metadata": {
    "tags": []
   },
   "outputs": [
    {
     "data": {
      "text/plain": [
       "'qwerty'"
      ]
     },
     "execution_count": 4,
     "metadata": {},
     "output_type": "execute_result"
    }
   ],
   "source": [
    "x[\"a\"]"
   ]
  },
  {
   "cell_type": "code",
   "execution_count": 5,
   "id": "65774524-c3c6-49d1-9bca-f7673f6b20a6",
   "metadata": {
    "tags": []
   },
   "outputs": [
    {
     "data": {
      "text/plain": [
       "'qw'"
      ]
     },
     "execution_count": 5,
     "metadata": {},
     "output_type": "execute_result"
    }
   ],
   "source": [
    "x[\"a\"][:2]"
   ]
  },
  {
   "cell_type": "code",
   "execution_count": 6,
   "id": "46f8dc50-f063-486f-a9b3-ca5e8f8a5476",
   "metadata": {
    "tags": []
   },
   "outputs": [],
   "source": [
    "x = {\"a\": \"qwerty\", \"b\": [2, 4, 6, 8], \"c\": {\"d\": 1}}"
   ]
  },
  {
   "cell_type": "code",
   "execution_count": 7,
   "id": "41d020b7-9a49-4615-89da-d3e7fce15a8c",
   "metadata": {
    "tags": []
   },
   "outputs": [
    {
     "data": {
      "text/plain": [
       "False"
      ]
     },
     "execution_count": 7,
     "metadata": {},
     "output_type": "execute_result"
    }
   ],
   "source": [
    "x[\"b\"][1] > 5"
   ]
  },
  {
   "cell_type": "code",
   "execution_count": 8,
   "id": "30b578d1-41c8-4a14-936b-a9728373daec",
   "metadata": {
    "tags": []
   },
   "outputs": [
    {
     "data": {
      "text/plain": [
       "dict"
      ]
     },
     "execution_count": 8,
     "metadata": {},
     "output_type": "execute_result"
    }
   ],
   "source": [
    "type(x[\"c\"])"
   ]
  },
  {
   "cell_type": "code",
   "execution_count": 14,
   "id": "e83e6373-16c2-4d5a-bdc7-fa553cd4106a",
   "metadata": {
    "tags": []
   },
   "outputs": [],
   "source": [
    "with open (\"e3.json\",\"r\") as f:\n",
    "    stuff = f.read()"
   ]
  },
  {
   "cell_type": "code",
   "execution_count": 15,
   "id": "09bda489-27f6-4244-bd40-64c5318402c0",
   "metadata": {
    "tags": []
   },
   "outputs": [
    {
     "data": {
      "text/plain": [
       "str"
      ]
     },
     "execution_count": 15,
     "metadata": {},
     "output_type": "execute_result"
    }
   ],
   "source": [
    "type(stuff)"
   ]
  },
  {
   "cell_type": "code",
   "execution_count": 16,
   "id": "e5d1ce87-c522-4767-8892-0ecda57c7fca",
   "metadata": {
    "tags": []
   },
   "outputs": [
    {
     "name": "stdout",
     "output_type": "stream",
     "text": [
      "[\n",
      "    {\"unit\": 7, \"topic\": \"files\"},\n",
      "    {\"unit\": 8, \"topic\": \"lists\"},\n",
      "    {\"unit\": 9, \"topic\": \"dictionaries\"}\n",
      "]\n"
     ]
    }
   ],
   "source": [
    "print(stuff)"
   ]
  },
  {
   "cell_type": "code",
   "execution_count": 17,
   "id": "ab83268e-55a2-458b-a0b3-14ab51ed890a",
   "metadata": {
    "tags": []
   },
   "outputs": [],
   "source": [
    "import json"
   ]
  },
  {
   "cell_type": "code",
   "execution_count": 18,
   "id": "1330c4a2-50a0-4674-802f-3a5980083651",
   "metadata": {
    "tags": []
   },
   "outputs": [],
   "source": [
    "topics = json.loads(stuff)"
   ]
  },
  {
   "cell_type": "code",
   "execution_count": 19,
   "id": "11ac6d6d-1436-4041-a549-49a09feabaf4",
   "metadata": {
    "tags": []
   },
   "outputs": [
    {
     "data": {
      "text/plain": [
       "list"
      ]
     },
     "execution_count": 19,
     "metadata": {},
     "output_type": "execute_result"
    }
   ],
   "source": [
    "type(topics)"
   ]
  },
  {
   "cell_type": "code",
   "execution_count": 20,
   "id": "b35bef87-a88b-4e05-b87e-c1479ea7ee92",
   "metadata": {
    "tags": []
   },
   "outputs": [
    {
     "data": {
      "text/plain": [
       "[{'unit': 7, 'topic': 'files'},\n",
       " {'unit': 8, 'topic': 'lists'},\n",
       " {'unit': 9, 'topic': 'dictionaries'}]"
      ]
     },
     "execution_count": 20,
     "metadata": {},
     "output_type": "execute_result"
    }
   ],
   "source": [
    "topics"
   ]
  },
  {
   "cell_type": "code",
   "execution_count": 21,
   "id": "b853e35f-60ae-424a-8542-d688a1ca518b",
   "metadata": {
    "tags": []
   },
   "outputs": [
    {
     "data": {
      "text/plain": [
       "'[\\n    {\"unit\": 7, \"topic\": \"files\"},\\n    {\"unit\": 8, \"topic\": \"lists\"},\\n    {\"unit\": 9, \"topic\": \"dictionaries\"}\\n]'"
      ]
     },
     "execution_count": 21,
     "metadata": {},
     "output_type": "execute_result"
    }
   ],
   "source": [
    "stuff"
   ]
  },
  {
   "cell_type": "code",
   "execution_count": 22,
   "id": "7b3dbd06-07bf-440f-8766-f594a247325d",
   "metadata": {
    "tags": []
   },
   "outputs": [
    {
     "name": "stdout",
     "output_type": "stream",
     "text": [
      "files\n",
      "lists\n",
      "dictionaries\n"
     ]
    }
   ],
   "source": [
    "for t in topics:\n",
    "    print(t['topic'])"
   ]
  },
  {
   "cell_type": "code",
   "execution_count": null,
   "id": "ff1d2a9c-fa1a-48b3-bb48-93fea17abef3",
   "metadata": {},
   "outputs": [],
   "source": []
  }
 ],
 "metadata": {
  "kernelspec": {
   "display_name": "Python 3 (ipykernel)",
   "language": "python",
   "name": "python3"
  },
  "language_info": {
   "codemirror_mode": {
    "name": "ipython",
    "version": 3
   },
   "file_extension": ".py",
   "mimetype": "text/x-python",
   "name": "python",
   "nbconvert_exporter": "python",
   "pygments_lexer": "ipython3",
   "version": "3.11.7"
  }
 },
 "nbformat": 4,
 "nbformat_minor": 5
}
