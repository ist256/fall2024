{
 "cells": [
  {
   "cell_type": "markdown",
   "metadata": {},
   "source": [
    "# Code Samples From Large Group\n",
    "\n",
    "Place your notes and code samples from large group here."
   ]
  },
  {
   "cell_type": "code",
   "execution_count": 7,
   "metadata": {},
   "outputs": [],
   "source": [
    "def add(first_number, second_number):\n",
    "    '''\n",
    "    This will add first_number to second_number\n",
    "    then return first_number + second_number\n",
    "    for example:\n",
    "    add( 1, 1) == 2\n",
    "    '''\n",
    "    total = 0\n",
    "    chiken_for_dinner = \"Yes\"\n",
    "    total = first_number + second_number\n",
    "    return total"
   ]
  },
  {
   "cell_type": "code",
   "execution_count": null,
   "metadata": {},
   "outputs": [],
   "source": []
  },
  {
   "cell_type": "code",
   "execution_count": null,
   "metadata": {},
   "outputs": [],
   "source": []
  },
  {
   "cell_type": "code",
   "execution_count": null,
   "metadata": {},
   "outputs": [],
   "source": []
  },
  {
   "cell_type": "code",
   "execution_count": null,
   "metadata": {},
   "outputs": [],
   "source": []
  },
  {
   "cell_type": "code",
   "execution_count": null,
   "metadata": {},
   "outputs": [],
   "source": []
  },
  {
   "cell_type": "code",
   "execution_count": null,
   "metadata": {},
   "outputs": [],
   "source": []
  },
  {
   "cell_type": "code",
   "execution_count": null,
   "metadata": {},
   "outputs": [],
   "source": []
  },
  {
   "cell_type": "code",
   "execution_count": null,
   "metadata": {},
   "outputs": [],
   "source": []
  },
  {
   "cell_type": "code",
   "execution_count": null,
   "metadata": {},
   "outputs": [],
   "source": []
  },
  {
   "cell_type": "code",
   "execution_count": null,
   "metadata": {},
   "outputs": [],
   "source": []
  },
  {
   "cell_type": "code",
   "execution_count": null,
   "metadata": {},
   "outputs": [],
   "source": [
    "a"
   ]
  },
  {
   "cell_type": "code",
   "execution_count": 2,
   "metadata": {
    "tags": []
   },
   "outputs": [
    {
     "data": {
      "text/plain": [
       "15"
      ]
     },
     "execution_count": 2,
     "metadata": {},
     "output_type": "execute_result"
    }
   ],
   "source": [
    "add(10,5)"
   ]
  },
  {
   "cell_type": "code",
   "execution_count": 3,
   "metadata": {
    "tags": []
   },
   "outputs": [
    {
     "name": "stdout",
     "output_type": "stream",
     "text": [
      "15\n"
     ]
    }
   ],
   "source": [
    "x = 10\n",
    "y = 5\n",
    "z = add(x, y)\n",
    "print(z)"
   ]
  },
  {
   "cell_type": "code",
   "execution_count": 8,
   "metadata": {
    "tags": []
   },
   "outputs": [
    {
     "data": {
      "text/plain": [
       "True"
      ]
     },
     "execution_count": 8,
     "metadata": {},
     "output_type": "execute_result"
    }
   ],
   "source": [
    "add(4,5) == 9"
   ]
  },
  {
   "cell_type": "code",
   "execution_count": 9,
   "metadata": {
    "tags": []
   },
   "outputs": [
    {
     "name": "stdout",
     "output_type": "stream",
     "text": [
      "Collecting gtts\n",
      "  Downloading gTTS-2.5.3-py3-none-any.whl.metadata (4.1 kB)\n",
      "Requirement already satisfied: requests<3,>=2.27 in /opt/conda/lib/python3.11/site-packages (from gtts) (2.31.0)\n",
      "Requirement already satisfied: click<8.2,>=7.1 in /opt/conda/lib/python3.11/site-packages (from gtts) (8.1.7)\n",
      "Requirement already satisfied: charset-normalizer<4,>=2 in /opt/conda/lib/python3.11/site-packages (from requests<3,>=2.27->gtts) (3.3.2)\n",
      "Requirement already satisfied: idna<4,>=2.5 in /opt/conda/lib/python3.11/site-packages (from requests<3,>=2.27->gtts) (3.6)\n",
      "Requirement already satisfied: urllib3<3,>=1.21.1 in /opt/conda/lib/python3.11/site-packages (from requests<3,>=2.27->gtts) (2.1.0)\n",
      "Requirement already satisfied: certifi>=2017.4.17 in /opt/conda/lib/python3.11/site-packages (from requests<3,>=2.27->gtts) (2023.11.17)\n",
      "Downloading gTTS-2.5.3-py3-none-any.whl (29 kB)\n",
      "Installing collected packages: gtts\n",
      "Successfully installed gtts-2.5.3\n"
     ]
    }
   ],
   "source": [
    "!pip install gtts"
   ]
  },
  {
   "cell_type": "code",
   "execution_count": 10,
   "metadata": {
    "tags": []
   },
   "outputs": [],
   "source": [
    "from gtts import gTTS\n",
    "tts = gTTS(\"Hello Mama!\")\n",
    "tts.save(\"mama.mp3\")"
   ]
  },
  {
   "cell_type": "code",
   "execution_count": 12,
   "metadata": {
    "tags": []
   },
   "outputs": [],
   "source": [
    "from gtts import gTTS\n",
    "from IPython.display import Audio\n"
   ]
  },
  {
   "cell_type": "code",
   "execution_count": 15,
   "metadata": {
    "tags": []
   },
   "outputs": [
    {
     "data": {
      "text/html": [
       "\n",
       "                <audio  controls=\"controls\" autoplay=\"autoplay\">\n",
       "                    <source src=\"data:audio/mpeg;base64,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\" type=\"audio/mpeg\" />\n",
       "                    Your browser does not support the audio element.\n",
       "                </audio>\n",
       "              "
      ],
      "text/plain": [
       "<IPython.lib.display.Audio object>"
      ]
     },
     "execution_count": 15,
     "metadata": {},
     "output_type": "execute_result"
    }
   ],
   "source": [
    "Audio(filename=\"mama.mp3\",autoplay=True)"
   ]
  },
  {
   "cell_type": "code",
   "execution_count": 4,
   "metadata": {
    "tags": []
   },
   "outputs": [
    {
     "name": "stdin",
     "output_type": "stream",
     "text": [
      "Enter something for me to say: hello\n"
     ]
    },
    {
     "data": {
      "text/html": [
       "\n",
       "                <audio  controls=\"controls\" autoplay=\"autoplay\">\n",
       "                    <source src=\"data:audio/mpeg;base64,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\" type=\"audio/mpeg\" />\n",
       "                    Your browser does not support the audio element.\n",
       "                </audio>\n",
       "              "
      ],
      "text/plain": [
       "<IPython.lib.display.Audio object>"
      ]
     },
     "execution_count": 4,
     "metadata": {},
     "output_type": "execute_result"
    }
   ],
   "source": [
    "from gtts import gTTS\n",
    "from IPython.display import Audio\n",
    "text = input(\"Enter something for me to say:\")\n",
    "tts = gTTS(text, lang=\"es\")\n",
    "tts.save(\"testing.mp3\")\n",
    "Audio(filename=\"testing.mp3\", autoplay=True)\n"
   ]
  },
  {
   "cell_type": "code",
   "execution_count": 9,
   "metadata": {
    "tags": []
   },
   "outputs": [],
   "source": [
    "def speak(text, autoplay=False):\n",
    "    '''\n",
    "    This will use google text to speech and\n",
    "    the IPython audio widget to create a player\n",
    "    for the audio file\n",
    "    '''\n",
    "    from gtts import gTTS\n",
    "    from IPython.display import Audio\n",
    "    tts = gTTS(text)\n",
    "    tts.save(\"temp.mp3\")\n",
    "    return Audio(filename=\"temp.mp3\", autoplay=autoplay)\n",
    "\n"
   ]
  },
  {
   "cell_type": "code",
   "execution_count": 10,
   "metadata": {
    "tags": []
   },
   "outputs": [
    {
     "data": {
      "text/html": [
       "\n",
       "                <audio  controls=\"controls\" autoplay=\"autoplay\">\n",
       "                    <source src=\"data:audio/mpeg;base64,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\" type=\"audio/mpeg\" />\n",
       "                    Your browser does not support the audio element.\n",
       "                </audio>\n",
       "              "
      ],
      "text/plain": [
       "<IPython.lib.display.Audio object>"
      ]
     },
     "execution_count": 10,
     "metadata": {},
     "output_type": "execute_result"
    }
   ],
   "source": [
    "speak(\"Hello There\", autoplay=True)"
   ]
  },
  {
   "cell_type": "code",
   "execution_count": 12,
   "metadata": {
    "tags": []
   },
   "outputs": [
    {
     "data": {
      "text/plain": [
       "['Audio',\n",
       " 'Code',\n",
       " 'DisplayHandle',\n",
       " 'DisplayObject',\n",
       " 'FileLink',\n",
       " 'FileLinks',\n",
       " 'GeoJSON',\n",
       " 'HTML',\n",
       " 'IFrame',\n",
       " 'Image',\n",
       " 'JSON',\n",
       " 'Javascript',\n",
       " 'Latex',\n",
       " 'Markdown',\n",
       " 'Math',\n",
       " 'Pretty',\n",
       " 'ProgressBar',\n",
       " 'SVG',\n",
       " 'ScribdDocument',\n",
       " 'TextDisplayObject',\n",
       " 'Video',\n",
       " 'VimeoVideo',\n",
       " 'YouTubeVideo',\n",
       " '__builtins__',\n",
       " '__cached__',\n",
       " '__doc__',\n",
       " '__file__',\n",
       " '__loader__',\n",
       " '__name__',\n",
       " '__package__',\n",
       " '__spec__',\n",
       " 'clear_output',\n",
       " 'display',\n",
       " 'display_html',\n",
       " 'display_javascript',\n",
       " 'display_jpeg',\n",
       " 'display_json',\n",
       " 'display_latex',\n",
       " 'display_markdown',\n",
       " 'display_pdf',\n",
       " 'display_png',\n",
       " 'display_pretty',\n",
       " 'display_svg',\n",
       " 'publish_display_data',\n",
       " 'set_matplotlib_close',\n",
       " 'set_matplotlib_formats',\n",
       " 'update_display']"
      ]
     },
     "execution_count": 12,
     "metadata": {},
     "output_type": "execute_result"
    }
   ],
   "source": [
    "import IPython.display\n",
    "dir(IPython.display)\n"
   ]
  },
  {
   "cell_type": "code",
   "execution_count": 14,
   "metadata": {
    "tags": []
   },
   "outputs": [
    {
     "data": {
      "image/jpeg": "[encoded data removed]",
      "text/html": [
       "\n",
       "        <iframe\n",
       "            width=\"400\"\n",
       "            height=\"300\"\n",
       "            src=\"https://www.youtube.com/embed/MaO1uCd-gLY\"\n",
       "            frameborder=\"0\"\n",
       "            allowfullscreen\n",
       "            \n",
       "        ></iframe>\n",
       "        "
      ],
      "text/plain": [
       "<IPython.lib.display.YouTubeVideo at 0x7fc692f27290>"
      ]
     },
     "execution_count": 14,
     "metadata": {},
     "output_type": "execute_result"
    }
   ],
   "source": [
    "from IPython.display import YouTubeVideo\n",
    "YouTubeVideo(\"MaO1uCd-gLY\")"
   ]
  },
  {
   "cell_type": "code",
   "execution_count": 15,
   "metadata": {
    "tags": []
   },
   "outputs": [
    {
     "name": "stdin",
     "output_type": "stream",
     "text": [
      "? hello mom!\n"
     ]
    },
    {
     "data": {
      "text/html": [
       "\n",
       "                <audio  controls=\"controls\" >\n",
       "                    <source src=\"data:audio/mpeg;base64,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\" type=\"audio/mpeg\" />\n",
       "                    Your browser does not support the audio element.\n",
       "                </audio>\n",
       "              "
      ],
      "text/plain": [
       "<IPython.lib.display.Audio object>"
      ]
     },
     "execution_count": 15,
     "metadata": {},
     "output_type": "execute_result"
    }
   ],
   "source": [
    "text=input(\"?\")\n",
    "speak(text)"
   ]
  },
  {
   "cell_type": "code",
   "execution_count": 18,
   "metadata": {
    "tags": []
   },
   "outputs": [
    {
     "data": {
      "application/vnd.jupyter.widget-view+json": {
       "model_id": "64583e96f0de4031bc15465f89c37b5e",
       "version_major": 2,
       "version_minor": 0
      },
      "text/plain": [
       "interactive(children=(Text(value='mike', continuous_update=False, description='name'), Checkbox(value=True, de…"
      ]
     },
     "metadata": {},
     "output_type": "display_data"
    }
   ],
   "source": [
    "from ipywidgets import interact_manual\n",
    "\n",
    "text = \"mike\"\n",
    "hungry = True\n",
    "foods = [ 'cheese', 'beer', 'pizza' ]\n",
    "age = 50\n",
    "@interact_manual(name=text, eat=hungry, choices=foods, age=age)\n",
    "def onclick(name, eat, choices, age):\n",
    "    print(name)\n",
    "    print(eat)\n",
    "    print(choices)\n",
    "    print(age)"
   ]
  },
  {
   "cell_type": "code",
   "execution_count": 21,
   "metadata": {
    "tags": []
   },
   "outputs": [
    {
     "data": {
      "application/vnd.jupyter.widget-view+json": {
       "model_id": "d926451ee80c4479927850836fc5eac8",
       "version_major": 2,
       "version_minor": 0
      },
      "text/plain": [
       "interactive(children=(Text(value='', continuous_update=False, description='text'), Button(description='Run Int…"
      ]
     },
     "metadata": {},
     "output_type": "display_data"
    }
   ],
   "source": [
    "from ipywidgets import interact_manual\n",
    "from IPython.display import display\n",
    "@interact_manual(text= \"\")\n",
    "def onclick(text):\n",
    "    display(speak(text, autoplay=True))"
   ]
  },
  {
   "cell_type": "code",
   "execution_count": null,
   "metadata": {},
   "outputs": [],
   "source": []
  }
 ],
 "metadata": {
  "kernelspec": {
   "display_name": "Python 3 (ipykernel)",
   "language": "python",
   "name": "python3"
  },
  "language_info": {
   "codemirror_mode": {
    "name": "ipython",
    "version": 3
   },
   "file_extension": ".py",
   "mimetype": "text/x-python",
   "name": "python",
   "nbconvert_exporter": "python",
   "pygments_lexer": "ipython3",
   "version": "3.11.7"
  },
  "varInspector": {
   "cols": {
    "lenName": 16,
    "lenType": 16,
    "lenVar": 40
   },
   "kernels_config": {
    "python": {
     "delete_cmd_postfix": "",
     "delete_cmd_prefix": "del ",
     "library": "var_list.py",
     "varRefreshCmd": "print(var_dic_list())"
    },
    "r": {
     "delete_cmd_postfix": ") ",
     "delete_cmd_prefix": "rm(",
     "library": "var_list.r",
     "varRefreshCmd": "cat(var_dic_list()) "
    }
   },
   "position": {
    "height": "209.852px",
    "left": "603.5px",
    "right": "20px",
    "top": "120px",
    "width": "329px"
   },
   "types_to_exclude": [
    "module",
    "function",
    "builtin_function_or_method",
    "instance",
    "_Feature"
   ],
   "window_display": false
  }
 },
 "nbformat": 4,
 "nbformat_minor": 4
}
