{
 "cells": [
  {
   "cell_type": "markdown",
   "metadata": {},
   "source": [
    "# Code Samples From Large Group\n",
    "\n",
    "Place your notes and code samples from large group here."
   ]
  },
  {
   "cell_type": "code",
   "execution_count": 45,
   "metadata": {},
   "outputs": [
    {
     "name": "stdin",
     "output_type": "stream",
     "text": [
      "Enter fuel level: 4\n"
     ]
    },
    {
     "name": "stdout",
     "output_type": "stream",
     "text": [
      "Fuel ok!\n",
      "hello\n"
     ]
    }
   ],
   "source": [
    "fuel = float(input(\"Enter fuel level:\"))\n",
    "if fuel < 0.1:\n",
    "    print(\"Fuel Low!\")\n",
    "else:\n",
    "    print(\"Fuel ok!\")\n",
    "print(\"hello\")"
   ]
  },
  {
   "cell_type": "code",
   "execution_count": 48,
   "metadata": {
    "tags": []
   },
   "outputs": [
    {
     "name": "stdin",
     "output_type": "stream",
     "text": [
      "Enter your gpa 3.4\n"
     ]
    },
    {
     "name": "stdout",
     "output_type": "stream",
     "text": [
      "You win the sweepstakes!\n"
     ]
    }
   ],
   "source": [
    "raining = False\n",
    "gpa = float(input(\"Enter your gpa\"))\n",
    "if not raining and gpa > 3.0:\n",
    "    print(\"You win the sweepstakes!\")\n",
    "else:\n",
    "    print(\"You lose!\")\n",
    "    \n",
    "#a. raining = False, gpa 3.4"
   ]
  },
  {
   "cell_type": "code",
   "execution_count": 53,
   "metadata": {
    "tags": []
   },
   "outputs": [
    {
     "name": "stdin",
     "output_type": "stream",
     "text": [
      "enter an integer 5\n"
     ]
    }
   ],
   "source": [
    "x = int(input(\"enter an integer\"))\n",
    "\n",
    "# one single statement. only one block executes\n",
    "if x>10 and x <=20:\n",
    "    print(\"A:bigger than 10 but less than 20\")\n",
    "elif x>20:\n",
    "    print(\"A:bigger than 20\")\n",
    "\n",
    "# Independent if's, each True Boolean executes a block\n",
    "if x>10:\n",
    "    print(\"B:bigger than 10\")\n",
    "if x>20:\n",
    "    print(\"B:bigger than 20\")"
   ]
  },
  {
   "cell_type": "markdown",
   "metadata": {},
   "source": [
    "INPUTS:\n",
    "    - number of dependents\n",
    "    - total income\n",
    "\n",
    "OUTPUTS:\n",
    "    - number of dependents\n",
    "    - tax rate .3, .25, .18, .1\n",
    "    - total income: ex 100,000\n",
    "    - taxable income: total income * tax rate\n",
    "    - net pay after taxes: total income - taxable income\n",
    "\n",
    "PROCESS:\n",
    "    input number of dependents and total income\n",
    "    tax rate is a function of dependents \n",
    "        when dependents == 0 then tax rate is 0.3\n",
    "        when dependents == 1 then tax rate is 0.25\n",
    "        when dependents == 2 then tax rate is 0.18\n",
    "        when dependents == 3 or more then tax rate is 0.1\n",
    "    taxable income is total income * tax rate\n",
    "    net pay is total income - taxable income\n",
    "    output outputs\n"
   ]
  },
  {
   "cell_type": "code",
   "execution_count": 76,
   "metadata": {
    "tags": []
   },
   "outputs": [
    {
     "name": "stdin",
     "output_type": "stream",
     "text": [
      "Enter dependents:  fdgdfhgdsfjg\n"
     ]
    },
    {
     "ename": "ValueError",
     "evalue": "invalid literal for int() with base 10: 'fdgdfhgdsfjg'",
     "output_type": "error",
     "traceback": [
      "\u001b[0;31m---------------------------------------------------------------------------\u001b[0m",
      "\u001b[0;31mValueError\u001b[0m                                Traceback (most recent call last)",
      "Cell \u001b[0;32mIn[76], line 2\u001b[0m\n\u001b[1;32m      1\u001b[0m \u001b[38;5;66;03m# INPUT\u001b[39;00m\n\u001b[0;32m----> 2\u001b[0m dependents \u001b[38;5;241m=\u001b[39m \u001b[38;5;28;43mint\u001b[39;49m\u001b[43m(\u001b[49m\u001b[38;5;28;43minput\u001b[39;49m\u001b[43m(\u001b[49m\u001b[38;5;124;43m\"\u001b[39;49m\u001b[38;5;124;43mEnter dependents: \u001b[39;49m\u001b[38;5;124;43m\"\u001b[39;49m\u001b[43m)\u001b[49m\u001b[43m)\u001b[49m\n\u001b[1;32m      3\u001b[0m total_income \u001b[38;5;241m=\u001b[39m \u001b[38;5;28mfloat\u001b[39m(\u001b[38;5;28minput\u001b[39m(\u001b[38;5;124m\"\u001b[39m\u001b[38;5;124mEnter total income: \u001b[39m\u001b[38;5;124m\"\u001b[39m))\n\u001b[1;32m      5\u001b[0m \u001b[38;5;66;03m#PROCESS\u001b[39;00m\n",
      "\u001b[0;31mValueError\u001b[0m: invalid literal for int() with base 10: 'fdgdfhgdsfjg'"
     ]
    }
   ],
   "source": [
    "# INPUT\n",
    "dependents = int(input(\"Enter dependents: \"))\n",
    "total_income = float(input(\"Enter total income: \"))\n",
    "\n",
    "#PROCESS\n",
    "if dependents == 0:\n",
    "    tax_rate = 0.3\n",
    "elif dependents == 1:\n",
    "    tax_rate = 0.25\n",
    "elif dependents == 2:\n",
    "    tax_rate = 0.18\n",
    "else: # 3 or more\n",
    "    tax_rate = 0.1\n",
    "taxable_income = total_income * tax_rate\n",
    "net_income = total_income - taxable_income\n",
    "\n",
    "# OUTPUT\n",
    "print(f\"Dependents: {dependents}\")\n",
    "print(f\"Tax Rate: {tax_rate}\")\n",
    "print(f\"Total Income: {total_income}\")\n",
    "print(f\"Taxable Income: {taxable_income}\")\n",
    "print(f\"Net Income: {net_income}\")"
   ]
  },
  {
   "cell_type": "code",
   "execution_count": 75,
   "metadata": {
    "tags": []
   },
   "outputs": [
    {
     "name": "stdin",
     "output_type": "stream",
     "text": [
      "Enter number ksjdfghlksjda\n"
     ]
    },
    {
     "name": "stdout",
     "output_type": "stream",
     "text": [
      "What you entered was not a number. I'm looking for 13 or 15.1\n"
     ]
    }
   ],
   "source": [
    "try:\n",
    "    number = int(input(\"Enter number\"))\n",
    "    next_number = number + 1\n",
    "    print(number, \"next\", next_number)\n",
    "except ValueError as e:\n",
    "    #print(e, \"is not a number!\")\n",
    "    print(\"What you entered was not a number. I'm looking for 13 or 15.1\")\n"
   ]
  },
  {
   "cell_type": "code",
   "execution_count": 68,
   "metadata": {
    "tags": []
   },
   "outputs": [
    {
     "data": {
      "text/plain": [
       "str"
      ]
     },
     "execution_count": 68,
     "metadata": {},
     "output_type": "execute_result"
    }
   ],
   "source": []
  }
 ],
 "metadata": {
  "kernelspec": {
   "display_name": "Python 3 (ipykernel)",
   "language": "python",
   "name": "python3"
  },
  "language_info": {
   "codemirror_mode": {
    "name": "ipython",
    "version": 3
   },
   "file_extension": ".py",
   "mimetype": "text/x-python",
   "name": "python",
   "nbconvert_exporter": "python",
   "pygments_lexer": "ipython3",
   "version": "3.11.7"
  },
  "varInspector": {
   "cols": {
    "lenName": 16,
    "lenType": 16,
    "lenVar": 40
   },
   "kernels_config": {
    "python": {
     "delete_cmd_postfix": "",
     "delete_cmd_prefix": "del ",
     "library": "var_list.py",
     "varRefreshCmd": "print(var_dic_list())"
    },
    "r": {
     "delete_cmd_postfix": ") ",
     "delete_cmd_prefix": "rm(",
     "library": "var_list.r",
     "varRefreshCmd": "cat(var_dic_list()) "
    }
   },
   "position": {
    "height": "144.857px",
    "left": "697.143px",
    "right": "20px",
    "top": "129px",
    "width": "350px"
   },
   "types_to_exclude": [
    "module",
    "function",
    "builtin_function_or_method",
    "instance",
    "_Feature"
   ],
   "window_display": false
  }
 },
 "nbformat": 4,
 "nbformat_minor": 4
}
