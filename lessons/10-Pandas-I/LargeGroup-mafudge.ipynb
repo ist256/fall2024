{
 "cells": [
  {
   "cell_type": "markdown",
   "metadata": {},
   "source": [
    "# Code Samples From Large Group\n",
    "\n",
    "Place your notes and code samples from large group here."
   ]
  },
  {
   "cell_type": "code",
   "execution_count": 1,
   "metadata": {},
   "outputs": [],
   "source": [
    "import pandas as pd"
   ]
  },
  {
   "cell_type": "code",
   "execution_count": 8,
   "metadata": {},
   "outputs": [],
   "source": [
    "student_data = [\n",
    "    {\"name\": \"abby\", \"gpa\": 3.7, \"major\": \"BIO\"},\n",
    "    {\"name\": \"bob\", \"gpa\": 2.4, \"major\": \"BIO\"},\n",
    "    {\"namez\": \"chris\", \"gpa\": 3.0, \"major\": \"CHE\"},\n",
    "    {\"gpa\": 3.2, \"major\": \"CHE\", \"name\": \"dee\"},\n",
    "    {\"name\": \"eric\", \"gpa\": 2.9, \"major\": \"PHY\"}\n",
    "]"
   ]
  },
  {
   "cell_type": "code",
   "execution_count": 9,
   "metadata": {
    "tags": []
   },
   "outputs": [],
   "source": [
    "student_df = pd.DataFrame(student_data)"
   ]
  },
  {
   "cell_type": "code",
   "execution_count": 10,
   "metadata": {
    "collapsed": true,
    "jupyter": {
     "outputs_hidden": true
    },
    "tags": []
   },
   "outputs": [
    {
     "data": {
      "text/html": [
       "<div>\n",
       "<style scoped>\n",
       "    .dataframe tbody tr th:only-of-type {\n",
       "        vertical-align: middle;\n",
       "    }\n",
       "\n",
       "    .dataframe tbody tr th {\n",
       "        vertical-align: top;\n",
       "    }\n",
       "\n",
       "    .dataframe thead th {\n",
       "        text-align: right;\n",
       "    }\n",
       "</style>\n",
       "<table border=\"1\" class=\"dataframe\">\n",
       "  <thead>\n",
       "    <tr style=\"text-align: right;\">\n",
       "      <th></th>\n",
       "      <th>name</th>\n",
       "      <th>gpa</th>\n",
       "      <th>major</th>\n",
       "      <th>namez</th>\n",
       "    </tr>\n",
       "  </thead>\n",
       "  <tbody>\n",
       "    <tr>\n",
       "      <th>0</th>\n",
       "      <td>abby</td>\n",
       "      <td>3.7</td>\n",
       "      <td>BIO</td>\n",
       "      <td>NaN</td>\n",
       "    </tr>\n",
       "    <tr>\n",
       "      <th>1</th>\n",
       "      <td>bob</td>\n",
       "      <td>2.4</td>\n",
       "      <td>BIO</td>\n",
       "      <td>NaN</td>\n",
       "    </tr>\n",
       "    <tr>\n",
       "      <th>2</th>\n",
       "      <td>NaN</td>\n",
       "      <td>3.0</td>\n",
       "      <td>CHE</td>\n",
       "      <td>chris</td>\n",
       "    </tr>\n",
       "    <tr>\n",
       "      <th>3</th>\n",
       "      <td>dee</td>\n",
       "      <td>3.2</td>\n",
       "      <td>CHE</td>\n",
       "      <td>NaN</td>\n",
       "    </tr>\n",
       "    <tr>\n",
       "      <th>4</th>\n",
       "      <td>eric</td>\n",
       "      <td>2.9</td>\n",
       "      <td>PHY</td>\n",
       "      <td>NaN</td>\n",
       "    </tr>\n",
       "  </tbody>\n",
       "</table>\n",
       "</div>"
      ],
      "text/plain": [
       "   name  gpa major  namez\n",
       "0  abby  3.7   BIO    NaN\n",
       "1   bob  2.4   BIO    NaN\n",
       "2   NaN  3.0   CHE  chris\n",
       "3   dee  3.2   CHE    NaN\n",
       "4  eric  2.9   PHY    NaN"
      ]
     },
     "execution_count": 10,
     "metadata": {},
     "output_type": "execute_result"
    }
   ],
   "source": [
    "student_df"
   ]
  },
  {
   "cell_type": "code",
   "execution_count": 11,
   "metadata": {
    "tags": []
   },
   "outputs": [],
   "source": [
    "student_data = [\n",
    "    {\"name\": \"abby\", \"gpa\": 3.7, \"major\": \"BIO\"},\n",
    "    {\"name\": \"bob\", \"gpa\": 2.4, \"major\": \"BIO\"},\n",
    "    {\"name\": \"chris\", \"gpa\": 3.0, \"major\": \"CHE\"},\n",
    "    {\"gpa\": 3.2, \"major\": \"CHE\", \"name\": \"dee\"},\n",
    "    {\"name\": \"eric\", \"gpa\": 2.9, \"major\": \"PHY\"}\n",
    "]"
   ]
  },
  {
   "cell_type": "code",
   "execution_count": 12,
   "metadata": {
    "tags": []
   },
   "outputs": [],
   "source": [
    "student_df = pd.DataFrame(student_data)"
   ]
  },
  {
   "cell_type": "code",
   "execution_count": 13,
   "metadata": {
    "tags": []
   },
   "outputs": [
    {
     "data": {
      "text/html": [
       "<div>\n",
       "<style scoped>\n",
       "    .dataframe tbody tr th:only-of-type {\n",
       "        vertical-align: middle;\n",
       "    }\n",
       "\n",
       "    .dataframe tbody tr th {\n",
       "        vertical-align: top;\n",
       "    }\n",
       "\n",
       "    .dataframe thead th {\n",
       "        text-align: right;\n",
       "    }\n",
       "</style>\n",
       "<table border=\"1\" class=\"dataframe\">\n",
       "  <thead>\n",
       "    <tr style=\"text-align: right;\">\n",
       "      <th></th>\n",
       "      <th>name</th>\n",
       "      <th>gpa</th>\n",
       "      <th>major</th>\n",
       "    </tr>\n",
       "  </thead>\n",
       "  <tbody>\n",
       "    <tr>\n",
       "      <th>0</th>\n",
       "      <td>abby</td>\n",
       "      <td>3.7</td>\n",
       "      <td>BIO</td>\n",
       "    </tr>\n",
       "    <tr>\n",
       "      <th>1</th>\n",
       "      <td>bob</td>\n",
       "      <td>2.4</td>\n",
       "      <td>BIO</td>\n",
       "    </tr>\n",
       "    <tr>\n",
       "      <th>2</th>\n",
       "      <td>chris</td>\n",
       "      <td>3.0</td>\n",
       "      <td>CHE</td>\n",
       "    </tr>\n",
       "    <tr>\n",
       "      <th>3</th>\n",
       "      <td>dee</td>\n",
       "      <td>3.2</td>\n",
       "      <td>CHE</td>\n",
       "    </tr>\n",
       "    <tr>\n",
       "      <th>4</th>\n",
       "      <td>eric</td>\n",
       "      <td>2.9</td>\n",
       "      <td>PHY</td>\n",
       "    </tr>\n",
       "  </tbody>\n",
       "</table>\n",
       "</div>"
      ],
      "text/plain": [
       "    name  gpa major\n",
       "0   abby  3.7   BIO\n",
       "1    bob  2.4   BIO\n",
       "2  chris  3.0   CHE\n",
       "3    dee  3.2   CHE\n",
       "4   eric  2.9   PHY"
      ]
     },
     "execution_count": 13,
     "metadata": {},
     "output_type": "execute_result"
    }
   ],
   "source": [
    "student_df"
   ]
  },
  {
   "cell_type": "code",
   "execution_count": 14,
   "metadata": {
    "tags": []
   },
   "outputs": [
    {
     "data": {
      "text/plain": [
       "2.4"
      ]
     },
     "execution_count": 14,
     "metadata": {},
     "output_type": "execute_result"
    }
   ],
   "source": [
    "student_df.loc[1, \"gpa\"]"
   ]
  },
  {
   "cell_type": "code",
   "execution_count": 16,
   "metadata": {
    "tags": []
   },
   "outputs": [
    {
     "data": {
      "text/plain": [
       "RangeIndex(start=0, stop=5, step=1)"
      ]
     },
     "execution_count": 16,
     "metadata": {},
     "output_type": "execute_result"
    }
   ],
   "source": [
    "student_df.index"
   ]
  },
  {
   "cell_type": "code",
   "execution_count": 17,
   "metadata": {
    "tags": []
   },
   "outputs": [
    {
     "data": {
      "text/plain": [
       "Index(['name', 'gpa', 'major'], dtype='object')"
      ]
     },
     "execution_count": 17,
     "metadata": {},
     "output_type": "execute_result"
    }
   ],
   "source": [
    "student_df.columns"
   ]
  },
  {
   "cell_type": "code",
   "execution_count": 20,
   "metadata": {
    "tags": []
   },
   "outputs": [
    {
     "data": {
      "text/html": [
       "<div>\n",
       "<style scoped>\n",
       "    .dataframe tbody tr th:only-of-type {\n",
       "        vertical-align: middle;\n",
       "    }\n",
       "\n",
       "    .dataframe tbody tr th {\n",
       "        vertical-align: top;\n",
       "    }\n",
       "\n",
       "    .dataframe thead th {\n",
       "        text-align: right;\n",
       "    }\n",
       "</style>\n",
       "<table border=\"1\" class=\"dataframe\">\n",
       "  <thead>\n",
       "    <tr style=\"text-align: right;\">\n",
       "      <th></th>\n",
       "      <th>name</th>\n",
       "      <th>gpa</th>\n",
       "      <th>major</th>\n",
       "    </tr>\n",
       "  </thead>\n",
       "  <tbody>\n",
       "    <tr>\n",
       "      <th>0</th>\n",
       "      <td>abby</td>\n",
       "      <td>3.7</td>\n",
       "      <td>BIO</td>\n",
       "    </tr>\n",
       "    <tr>\n",
       "      <th>1</th>\n",
       "      <td>bob</td>\n",
       "      <td>2.4</td>\n",
       "      <td>BIO</td>\n",
       "    </tr>\n",
       "    <tr>\n",
       "      <th>2</th>\n",
       "      <td>chris</td>\n",
       "      <td>3.0</td>\n",
       "      <td>CHE</td>\n",
       "    </tr>\n",
       "    <tr>\n",
       "      <th>3</th>\n",
       "      <td>dee</td>\n",
       "      <td>3.2</td>\n",
       "      <td>CHE</td>\n",
       "    </tr>\n",
       "    <tr>\n",
       "      <th>4</th>\n",
       "      <td>eric</td>\n",
       "      <td>2.9</td>\n",
       "      <td>PHY</td>\n",
       "    </tr>\n",
       "  </tbody>\n",
       "</table>\n",
       "</div>"
      ],
      "text/plain": [
       "    name  gpa major\n",
       "0   abby  3.7   BIO\n",
       "1    bob  2.4   BIO\n",
       "2  chris  3.0   CHE\n",
       "3    dee  3.2   CHE\n",
       "4   eric  2.9   PHY"
      ]
     },
     "execution_count": 20,
     "metadata": {},
     "output_type": "execute_result"
    }
   ],
   "source": [
    "student_df"
   ]
  },
  {
   "cell_type": "code",
   "execution_count": 19,
   "metadata": {
    "tags": []
   },
   "outputs": [
    {
     "name": "stdout",
     "output_type": "stream",
     "text": [
      "abby\n",
      "3.7\n",
      "BIO\n"
     ]
    }
   ],
   "source": [
    "for col in student_df.columns:\n",
    "    print(student_df.loc[0, col])"
   ]
  },
  {
   "cell_type": "code",
   "execution_count": 21,
   "metadata": {
    "tags": []
   },
   "outputs": [
    {
     "name": "stdout",
     "output_type": "stream",
     "text": [
      "abby\n",
      "bob\n",
      "chris\n",
      "dee\n",
      "eric\n"
     ]
    }
   ],
   "source": [
    "for i in student_df.index:\n",
    "    print(student_df.loc[i, \"name\"])"
   ]
  },
  {
   "cell_type": "code",
   "execution_count": 22,
   "metadata": {
    "tags": []
   },
   "outputs": [
    {
     "name": "stdout",
     "output_type": "stream",
     "text": [
      "0     abby\n",
      "1      bob\n",
      "2    chris\n",
      "3      dee\n",
      "4     eric\n",
      "Name: name, dtype: object\n"
     ]
    }
   ],
   "source": [
    "print(student_df[\"name\"])"
   ]
  },
  {
   "cell_type": "code",
   "execution_count": 23,
   "metadata": {
    "tags": []
   },
   "outputs": [
    {
     "name": "stdout",
     "output_type": "stream",
     "text": [
      "0    3.7\n",
      "1    2.4\n",
      "2    3.0\n",
      "3    3.2\n",
      "4    2.9\n",
      "Name: gpa, dtype: float64\n"
     ]
    }
   ],
   "source": [
    "print(student_df[\"gpa\"])"
   ]
  },
  {
   "cell_type": "code",
   "execution_count": 24,
   "metadata": {
    "tags": []
   },
   "outputs": [],
   "source": [
    "names = list(student_df['name'].values)"
   ]
  },
  {
   "cell_type": "code",
   "execution_count": 25,
   "metadata": {
    "tags": []
   },
   "outputs": [
    {
     "data": {
      "text/plain": [
       "['abby', 'bob', 'chris', 'dee', 'eric']"
      ]
     },
     "execution_count": 25,
     "metadata": {},
     "output_type": "execute_result"
    }
   ],
   "source": [
    "names"
   ]
  },
  {
   "cell_type": "code",
   "execution_count": 26,
   "metadata": {
    "tags": []
   },
   "outputs": [
    {
     "data": {
      "text/html": [
       "<div>\n",
       "<style scoped>\n",
       "    .dataframe tbody tr th:only-of-type {\n",
       "        vertical-align: middle;\n",
       "    }\n",
       "\n",
       "    .dataframe tbody tr th {\n",
       "        vertical-align: top;\n",
       "    }\n",
       "\n",
       "    .dataframe thead th {\n",
       "        text-align: right;\n",
       "    }\n",
       "</style>\n",
       "<table border=\"1\" class=\"dataframe\">\n",
       "  <thead>\n",
       "    <tr style=\"text-align: right;\">\n",
       "      <th></th>\n",
       "      <th>name</th>\n",
       "      <th>gpa</th>\n",
       "      <th>major</th>\n",
       "    </tr>\n",
       "  </thead>\n",
       "  <tbody>\n",
       "    <tr>\n",
       "      <th>0</th>\n",
       "      <td>abby</td>\n",
       "      <td>3.7</td>\n",
       "      <td>BIO</td>\n",
       "    </tr>\n",
       "    <tr>\n",
       "      <th>1</th>\n",
       "      <td>bob</td>\n",
       "      <td>2.4</td>\n",
       "      <td>BIO</td>\n",
       "    </tr>\n",
       "    <tr>\n",
       "      <th>2</th>\n",
       "      <td>chris</td>\n",
       "      <td>3.0</td>\n",
       "      <td>CHE</td>\n",
       "    </tr>\n",
       "    <tr>\n",
       "      <th>3</th>\n",
       "      <td>dee</td>\n",
       "      <td>3.2</td>\n",
       "      <td>CHE</td>\n",
       "    </tr>\n",
       "    <tr>\n",
       "      <th>4</th>\n",
       "      <td>eric</td>\n",
       "      <td>2.9</td>\n",
       "      <td>PHY</td>\n",
       "    </tr>\n",
       "  </tbody>\n",
       "</table>\n",
       "</div>"
      ],
      "text/plain": [
       "    name  gpa major\n",
       "0   abby  3.7   BIO\n",
       "1    bob  2.4   BIO\n",
       "2  chris  3.0   CHE\n",
       "3    dee  3.2   CHE\n",
       "4   eric  2.9   PHY"
      ]
     },
     "execution_count": 26,
     "metadata": {},
     "output_type": "execute_result"
    }
   ],
   "source": [
    "student_df"
   ]
  },
  {
   "cell_type": "code",
   "execution_count": 27,
   "metadata": {
    "tags": []
   },
   "outputs": [
    {
     "data": {
      "text/plain": [
       "major\n",
       "BIO    2\n",
       "CHE    2\n",
       "PHY    1\n",
       "Name: count, dtype: int64"
      ]
     },
     "execution_count": 27,
     "metadata": {},
     "output_type": "execute_result"
    }
   ],
   "source": [
    "student_df['major'].value_counts()"
   ]
  },
  {
   "cell_type": "code",
   "execution_count": 28,
   "metadata": {
    "tags": []
   },
   "outputs": [],
   "source": [
    "major_series = student_df['major'].value_counts()"
   ]
  },
  {
   "cell_type": "code",
   "execution_count": 29,
   "metadata": {
    "tags": []
   },
   "outputs": [
    {
     "data": {
      "text/plain": [
       "Index(['BIO', 'CHE', 'PHY'], dtype='object', name='major')"
      ]
     },
     "execution_count": 29,
     "metadata": {},
     "output_type": "execute_result"
    }
   ],
   "source": [
    "major_series.index"
   ]
  },
  {
   "cell_type": "code",
   "execution_count": 30,
   "metadata": {
    "tags": []
   },
   "outputs": [
    {
     "data": {
      "text/plain": [
       "array([2, 2, 1])"
      ]
     },
     "execution_count": 30,
     "metadata": {},
     "output_type": "execute_result"
    }
   ],
   "source": [
    "major_series.values"
   ]
  },
  {
   "cell_type": "code",
   "execution_count": 31,
   "metadata": {
    "tags": []
   },
   "outputs": [
    {
     "data": {
      "text/html": [
       "<div>\n",
       "<style scoped>\n",
       "    .dataframe tbody tr th:only-of-type {\n",
       "        vertical-align: middle;\n",
       "    }\n",
       "\n",
       "    .dataframe tbody tr th {\n",
       "        vertical-align: top;\n",
       "    }\n",
       "\n",
       "    .dataframe thead th {\n",
       "        text-align: right;\n",
       "    }\n",
       "</style>\n",
       "<table border=\"1\" class=\"dataframe\">\n",
       "  <thead>\n",
       "    <tr style=\"text-align: right;\">\n",
       "      <th></th>\n",
       "      <th>name</th>\n",
       "      <th>gpa</th>\n",
       "      <th>major</th>\n",
       "    </tr>\n",
       "  </thead>\n",
       "  <tbody>\n",
       "    <tr>\n",
       "      <th>0</th>\n",
       "      <td>abby</td>\n",
       "      <td>3.7</td>\n",
       "      <td>BIO</td>\n",
       "    </tr>\n",
       "    <tr>\n",
       "      <th>1</th>\n",
       "      <td>bob</td>\n",
       "      <td>2.4</td>\n",
       "      <td>BIO</td>\n",
       "    </tr>\n",
       "    <tr>\n",
       "      <th>2</th>\n",
       "      <td>chris</td>\n",
       "      <td>3.0</td>\n",
       "      <td>CHE</td>\n",
       "    </tr>\n",
       "    <tr>\n",
       "      <th>3</th>\n",
       "      <td>dee</td>\n",
       "      <td>3.2</td>\n",
       "      <td>CHE</td>\n",
       "    </tr>\n",
       "    <tr>\n",
       "      <th>4</th>\n",
       "      <td>eric</td>\n",
       "      <td>2.9</td>\n",
       "      <td>PHY</td>\n",
       "    </tr>\n",
       "  </tbody>\n",
       "</table>\n",
       "</div>"
      ],
      "text/plain": [
       "    name  gpa major\n",
       "0   abby  3.7   BIO\n",
       "1    bob  2.4   BIO\n",
       "2  chris  3.0   CHE\n",
       "3    dee  3.2   CHE\n",
       "4   eric  2.9   PHY"
      ]
     },
     "execution_count": 31,
     "metadata": {},
     "output_type": "execute_result"
    }
   ],
   "source": [
    "student_df"
   ]
  },
  {
   "cell_type": "code",
   "execution_count": 33,
   "metadata": {
    "tags": []
   },
   "outputs": [
    {
     "data": {
      "text/plain": [
       "2.4"
      ]
     },
     "execution_count": 33,
     "metadata": {},
     "output_type": "execute_result"
    }
   ],
   "source": [
    "lowest_gpa = student_df['gpa'].min()\n",
    "lowest_gpa"
   ]
  },
  {
   "cell_type": "code",
   "execution_count": 34,
   "metadata": {
    "tags": []
   },
   "outputs": [],
   "source": [
    "highest_gpa = student_df['gpa'].max()"
   ]
  },
  {
   "cell_type": "code",
   "execution_count": 35,
   "metadata": {
    "tags": []
   },
   "outputs": [
    {
     "data": {
      "text/plain": [
       "3.7"
      ]
     },
     "execution_count": 35,
     "metadata": {},
     "output_type": "execute_result"
    }
   ],
   "source": [
    "highest_gpa"
   ]
  },
  {
   "cell_type": "code",
   "execution_count": 36,
   "metadata": {
    "tags": []
   },
   "outputs": [],
   "source": [
    "shdf = pd.read_csv(\"superhero2.csv\")"
   ]
  },
  {
   "cell_type": "code",
   "execution_count": 38,
   "metadata": {
    "tags": []
   },
   "outputs": [
    {
     "data": {
      "text/html": [
       "<div>\n",
       "<style scoped>\n",
       "    .dataframe tbody tr th:only-of-type {\n",
       "        vertical-align: middle;\n",
       "    }\n",
       "\n",
       "    .dataframe tbody tr th {\n",
       "        vertical-align: top;\n",
       "    }\n",
       "\n",
       "    .dataframe thead th {\n",
       "        text-align: right;\n",
       "    }\n",
       "</style>\n",
       "<table border=\"1\" class=\"dataframe\">\n",
       "  <thead>\n",
       "    <tr style=\"text-align: right;\">\n",
       "      <th></th>\n",
       "      <th>Year</th>\n",
       "      <th>Title</th>\n",
       "      <th>Comic</th>\n",
       "      <th>IMDB Score</th>\n",
       "      <th>RT Score</th>\n",
       "      <th>Composite Score</th>\n",
       "      <th>Opening Weekend  Box Office</th>\n",
       "      <th>Avg Ticket Price</th>\n",
       "      <th>Opening Weekend Attendance</th>\n",
       "      <th>US Population That Year</th>\n",
       "      <th>pct_of_pop</th>\n",
       "      <th>box_off_estimate</th>\n",
       "    </tr>\n",
       "  </thead>\n",
       "  <tbody>\n",
       "    <tr>\n",
       "      <th>0</th>\n",
       "      <td>1978</td>\n",
       "      <td>Superman</td>\n",
       "      <td>DC</td>\n",
       "      <td>7.3</td>\n",
       "      <td>95</td>\n",
       "      <td>84.0</td>\n",
       "      <td>7465343.0</td>\n",
       "      <td>2.34</td>\n",
       "      <td>3190317.521</td>\n",
       "      <td>222584545</td>\n",
       "      <td>0.014333</td>\n",
       "      <td>17468902.62</td>\n",
       "    </tr>\n",
       "    <tr>\n",
       "      <th>1</th>\n",
       "      <td>1980</td>\n",
       "      <td>Superman II</td>\n",
       "      <td>DC</td>\n",
       "      <td>6.7</td>\n",
       "      <td>88</td>\n",
       "      <td>77.5</td>\n",
       "      <td>14100523.0</td>\n",
       "      <td>2.69</td>\n",
       "      <td>5241830.112</td>\n",
       "      <td>227224681</td>\n",
       "      <td>0.023069</td>\n",
       "      <td>37930406.87</td>\n",
       "    </tr>\n",
       "    <tr>\n",
       "      <th>2</th>\n",
       "      <td>1983</td>\n",
       "      <td>Superman III</td>\n",
       "      <td>DC</td>\n",
       "      <td>4.9</td>\n",
       "      <td>24</td>\n",
       "      <td>36.5</td>\n",
       "      <td>13352357.0</td>\n",
       "      <td>3.15</td>\n",
       "      <td>4238843.492</td>\n",
       "      <td>233791994</td>\n",
       "      <td>0.018131</td>\n",
       "      <td>42059924.55</td>\n",
       "    </tr>\n",
       "    <tr>\n",
       "      <th>3</th>\n",
       "      <td>1984</td>\n",
       "      <td>Supergirl</td>\n",
       "      <td>DC</td>\n",
       "      <td>4.2</td>\n",
       "      <td>8</td>\n",
       "      <td>25.0</td>\n",
       "      <td>5738249.0</td>\n",
       "      <td>3.36</td>\n",
       "      <td>1707812.202</td>\n",
       "      <td>235824902</td>\n",
       "      <td>0.007242</td>\n",
       "      <td>19280516.64</td>\n",
       "    </tr>\n",
       "    <tr>\n",
       "      <th>4</th>\n",
       "      <td>1986</td>\n",
       "      <td>Howard the Duck</td>\n",
       "      <td>Marvel</td>\n",
       "      <td>4.3</td>\n",
       "      <td>16</td>\n",
       "      <td>29.5</td>\n",
       "      <td>5070136.0</td>\n",
       "      <td>3.71</td>\n",
       "      <td>1366613.477</td>\n",
       "      <td>240132887</td>\n",
       "      <td>0.005691</td>\n",
       "      <td>18810204.56</td>\n",
       "    </tr>\n",
       "  </tbody>\n",
       "</table>\n",
       "</div>"
      ],
      "text/plain": [
       "   Year            Title   Comic  IMDB Score  RT Score  Composite Score  \\\n",
       "0  1978         Superman      DC         7.3        95             84.0   \n",
       "1  1980      Superman II      DC         6.7        88             77.5   \n",
       "2  1983     Superman III      DC         4.9        24             36.5   \n",
       "3  1984        Supergirl      DC         4.2         8             25.0   \n",
       "4  1986  Howard the Duck  Marvel         4.3        16             29.5   \n",
       "\n",
       "   Opening Weekend  Box Office  Avg Ticket Price  Opening Weekend Attendance  \\\n",
       "0                    7465343.0              2.34                 3190317.521   \n",
       "1                   14100523.0              2.69                 5241830.112   \n",
       "2                   13352357.0              3.15                 4238843.492   \n",
       "3                    5738249.0              3.36                 1707812.202   \n",
       "4                    5070136.0              3.71                 1366613.477   \n",
       "\n",
       "   US Population That Year  pct_of_pop  box_off_estimate  \n",
       "0                222584545    0.014333       17468902.62  \n",
       "1                227224681    0.023069       37930406.87  \n",
       "2                233791994    0.018131       42059924.55  \n",
       "3                235824902    0.007242       19280516.64  \n",
       "4                240132887    0.005691       18810204.56  "
      ]
     },
     "execution_count": 38,
     "metadata": {},
     "output_type": "execute_result"
    }
   ],
   "source": [
    "shdf.head()"
   ]
  },
  {
   "cell_type": "code",
   "execution_count": 39,
   "metadata": {
    "tags": []
   },
   "outputs": [
    {
     "data": {
      "text/html": [
       "<div>\n",
       "<style scoped>\n",
       "    .dataframe tbody tr th:only-of-type {\n",
       "        vertical-align: middle;\n",
       "    }\n",
       "\n",
       "    .dataframe tbody tr th {\n",
       "        vertical-align: top;\n",
       "    }\n",
       "\n",
       "    .dataframe thead th {\n",
       "        text-align: right;\n",
       "    }\n",
       "</style>\n",
       "<table border=\"1\" class=\"dataframe\">\n",
       "  <thead>\n",
       "    <tr style=\"text-align: right;\">\n",
       "      <th></th>\n",
       "      <th>Year</th>\n",
       "      <th>Title</th>\n",
       "      <th>Comic</th>\n",
       "      <th>IMDB Score</th>\n",
       "      <th>RT Score</th>\n",
       "      <th>Composite Score</th>\n",
       "      <th>Opening Weekend  Box Office</th>\n",
       "      <th>Avg Ticket Price</th>\n",
       "      <th>Opening Weekend Attendance</th>\n",
       "      <th>US Population That Year</th>\n",
       "      <th>pct_of_pop</th>\n",
       "      <th>box_off_estimate</th>\n",
       "    </tr>\n",
       "  </thead>\n",
       "  <tbody>\n",
       "    <tr>\n",
       "      <th>41</th>\n",
       "      <td>2011</td>\n",
       "      <td>X-Men: First Class</td>\n",
       "      <td>Marvel</td>\n",
       "      <td>7.9</td>\n",
       "      <td>87</td>\n",
       "      <td>83.0</td>\n",
       "      <td>55101604.0</td>\n",
       "      <td>7.93</td>\n",
       "      <td>6.948500e+06</td>\n",
       "      <td>311591917</td>\n",
       "      <td>0.022300</td>\n",
       "      <td>4.369557e+08</td>\n",
       "    </tr>\n",
       "    <tr>\n",
       "      <th>42</th>\n",
       "      <td>2012</td>\n",
       "      <td>Marvel's The Avengers</td>\n",
       "      <td>Marvel</td>\n",
       "      <td>8.7</td>\n",
       "      <td>92</td>\n",
       "      <td>89.5</td>\n",
       "      <td>207438708.0</td>\n",
       "      <td>7.92</td>\n",
       "      <td>2.619176e+07</td>\n",
       "      <td>314055984</td>\n",
       "      <td>0.083398</td>\n",
       "      <td>1.642915e+09</td>\n",
       "    </tr>\n",
       "    <tr>\n",
       "      <th>43</th>\n",
       "      <td>2012</td>\n",
       "      <td>The Dark Knight Rises</td>\n",
       "      <td>DC</td>\n",
       "      <td>9.1</td>\n",
       "      <td>86</td>\n",
       "      <td>88.5</td>\n",
       "      <td>160887295.0</td>\n",
       "      <td>7.92</td>\n",
       "      <td>2.031405e+07</td>\n",
       "      <td>314055984</td>\n",
       "      <td>0.064683</td>\n",
       "      <td>1.274227e+09</td>\n",
       "    </tr>\n",
       "    <tr>\n",
       "      <th>44</th>\n",
       "      <td>2012</td>\n",
       "      <td>Ghost Rider: Spirit of Vengeance</td>\n",
       "      <td>Marvel</td>\n",
       "      <td>4.5</td>\n",
       "      <td>17</td>\n",
       "      <td>31.0</td>\n",
       "      <td>22115334.0</td>\n",
       "      <td>7.92</td>\n",
       "      <td>2.792340e+06</td>\n",
       "      <td>314055984</td>\n",
       "      <td>0.008891</td>\n",
       "      <td>1.751534e+08</td>\n",
       "    </tr>\n",
       "    <tr>\n",
       "      <th>45</th>\n",
       "      <td>2012</td>\n",
       "      <td>The Amazing Spider-Man</td>\n",
       "      <td>Marvel</td>\n",
       "      <td>7.6</td>\n",
       "      <td>74</td>\n",
       "      <td>75.0</td>\n",
       "      <td>62004688.0</td>\n",
       "      <td>7.92</td>\n",
       "      <td>7.828875e+06</td>\n",
       "      <td>314055984</td>\n",
       "      <td>0.024928</td>\n",
       "      <td>4.910771e+08</td>\n",
       "    </tr>\n",
       "  </tbody>\n",
       "</table>\n",
       "</div>"
      ],
      "text/plain": [
       "    Year                             Title   Comic  IMDB Score  RT Score  \\\n",
       "41  2011                X-Men: First Class  Marvel         7.9        87   \n",
       "42  2012             Marvel's The Avengers  Marvel         8.7        92   \n",
       "43  2012             The Dark Knight Rises      DC         9.1        86   \n",
       "44  2012  Ghost Rider: Spirit of Vengeance  Marvel         4.5        17   \n",
       "45  2012            The Amazing Spider-Man  Marvel         7.6        74   \n",
       "\n",
       "    Composite Score  Opening Weekend  Box Office  Avg Ticket Price  \\\n",
       "41             83.0                   55101604.0              7.93   \n",
       "42             89.5                  207438708.0              7.92   \n",
       "43             88.5                  160887295.0              7.92   \n",
       "44             31.0                   22115334.0              7.92   \n",
       "45             75.0                   62004688.0              7.92   \n",
       "\n",
       "    Opening Weekend Attendance  US Population That Year  pct_of_pop  \\\n",
       "41                6.948500e+06                311591917    0.022300   \n",
       "42                2.619176e+07                314055984    0.083398   \n",
       "43                2.031405e+07                314055984    0.064683   \n",
       "44                2.792340e+06                314055984    0.008891   \n",
       "45                7.828875e+06                314055984    0.024928   \n",
       "\n",
       "    box_off_estimate  \n",
       "41      4.369557e+08  \n",
       "42      1.642915e+09  \n",
       "43      1.274227e+09  \n",
       "44      1.751534e+08  \n",
       "45      4.910771e+08  "
      ]
     },
     "execution_count": 39,
     "metadata": {},
     "output_type": "execute_result"
    }
   ],
   "source": [
    "shdf.tail()"
   ]
  },
  {
   "cell_type": "code",
   "execution_count": 40,
   "metadata": {
    "tags": []
   },
   "outputs": [
    {
     "data": {
      "text/html": [
       "<div>\n",
       "<style scoped>\n",
       "    .dataframe tbody tr th:only-of-type {\n",
       "        vertical-align: middle;\n",
       "    }\n",
       "\n",
       "    .dataframe tbody tr th {\n",
       "        vertical-align: top;\n",
       "    }\n",
       "\n",
       "    .dataframe thead th {\n",
       "        text-align: right;\n",
       "    }\n",
       "</style>\n",
       "<table border=\"1\" class=\"dataframe\">\n",
       "  <thead>\n",
       "    <tr style=\"text-align: right;\">\n",
       "      <th></th>\n",
       "      <th>Year</th>\n",
       "      <th>Title</th>\n",
       "      <th>Comic</th>\n",
       "      <th>IMDB Score</th>\n",
       "      <th>RT Score</th>\n",
       "      <th>Composite Score</th>\n",
       "      <th>Opening Weekend  Box Office</th>\n",
       "      <th>Avg Ticket Price</th>\n",
       "      <th>Opening Weekend Attendance</th>\n",
       "      <th>US Population That Year</th>\n",
       "      <th>pct_of_pop</th>\n",
       "      <th>box_off_estimate</th>\n",
       "    </tr>\n",
       "  </thead>\n",
       "  <tbody>\n",
       "    <tr>\n",
       "      <th>0</th>\n",
       "      <td>1978</td>\n",
       "      <td>Superman</td>\n",
       "      <td>DC</td>\n",
       "      <td>7.3</td>\n",
       "      <td>95</td>\n",
       "      <td>84.0</td>\n",
       "      <td>7465343.0</td>\n",
       "      <td>2.34</td>\n",
       "      <td>3.190318e+06</td>\n",
       "      <td>222584545</td>\n",
       "      <td>0.014333</td>\n",
       "      <td>1.746890e+07</td>\n",
       "    </tr>\n",
       "    <tr>\n",
       "      <th>1</th>\n",
       "      <td>1980</td>\n",
       "      <td>Superman II</td>\n",
       "      <td>DC</td>\n",
       "      <td>6.7</td>\n",
       "      <td>88</td>\n",
       "      <td>77.5</td>\n",
       "      <td>14100523.0</td>\n",
       "      <td>2.69</td>\n",
       "      <td>5.241830e+06</td>\n",
       "      <td>227224681</td>\n",
       "      <td>0.023069</td>\n",
       "      <td>3.793041e+07</td>\n",
       "    </tr>\n",
       "    <tr>\n",
       "      <th>2</th>\n",
       "      <td>1983</td>\n",
       "      <td>Superman III</td>\n",
       "      <td>DC</td>\n",
       "      <td>4.9</td>\n",
       "      <td>24</td>\n",
       "      <td>36.5</td>\n",
       "      <td>13352357.0</td>\n",
       "      <td>3.15</td>\n",
       "      <td>4.238843e+06</td>\n",
       "      <td>233791994</td>\n",
       "      <td>0.018131</td>\n",
       "      <td>4.205992e+07</td>\n",
       "    </tr>\n",
       "    <tr>\n",
       "      <th>3</th>\n",
       "      <td>1984</td>\n",
       "      <td>Supergirl</td>\n",
       "      <td>DC</td>\n",
       "      <td>4.2</td>\n",
       "      <td>8</td>\n",
       "      <td>25.0</td>\n",
       "      <td>5738249.0</td>\n",
       "      <td>3.36</td>\n",
       "      <td>1.707812e+06</td>\n",
       "      <td>235824902</td>\n",
       "      <td>0.007242</td>\n",
       "      <td>1.928052e+07</td>\n",
       "    </tr>\n",
       "    <tr>\n",
       "      <th>4</th>\n",
       "      <td>1986</td>\n",
       "      <td>Howard the Duck</td>\n",
       "      <td>Marvel</td>\n",
       "      <td>4.3</td>\n",
       "      <td>16</td>\n",
       "      <td>29.5</td>\n",
       "      <td>5070136.0</td>\n",
       "      <td>3.71</td>\n",
       "      <td>1.366613e+06</td>\n",
       "      <td>240132887</td>\n",
       "      <td>0.005691</td>\n",
       "      <td>1.881020e+07</td>\n",
       "    </tr>\n",
       "    <tr>\n",
       "      <th>5</th>\n",
       "      <td>1987</td>\n",
       "      <td>Superman IV: The Quest for Peace</td>\n",
       "      <td>DC</td>\n",
       "      <td>3.6</td>\n",
       "      <td>10</td>\n",
       "      <td>23.0</td>\n",
       "      <td>5683122.0</td>\n",
       "      <td>3.91</td>\n",
       "      <td>1.453484e+06</td>\n",
       "      <td>242288918</td>\n",
       "      <td>0.005999</td>\n",
       "      <td>2.222101e+07</td>\n",
       "    </tr>\n",
       "    <tr>\n",
       "      <th>6</th>\n",
       "      <td>1989</td>\n",
       "      <td>Batman</td>\n",
       "      <td>DC</td>\n",
       "      <td>7.6</td>\n",
       "      <td>71</td>\n",
       "      <td>73.5</td>\n",
       "      <td>40489746.0</td>\n",
       "      <td>3.97</td>\n",
       "      <td>1.019893e+07</td>\n",
       "      <td>246819230</td>\n",
       "      <td>0.041321</td>\n",
       "      <td>1.607443e+08</td>\n",
       "    </tr>\n",
       "    <tr>\n",
       "      <th>7</th>\n",
       "      <td>1992</td>\n",
       "      <td>Batman Returns</td>\n",
       "      <td>DC</td>\n",
       "      <td>7.0</td>\n",
       "      <td>78</td>\n",
       "      <td>74.0</td>\n",
       "      <td>45687711.0</td>\n",
       "      <td>4.15</td>\n",
       "      <td>1.100909e+07</td>\n",
       "      <td>255029699</td>\n",
       "      <td>0.043168</td>\n",
       "      <td>1.896040e+08</td>\n",
       "    </tr>\n",
       "    <tr>\n",
       "      <th>8</th>\n",
       "      <td>1995</td>\n",
       "      <td>Batman Forever</td>\n",
       "      <td>DC</td>\n",
       "      <td>5.4</td>\n",
       "      <td>42</td>\n",
       "      <td>48.0</td>\n",
       "      <td>52784433.0</td>\n",
       "      <td>4.35</td>\n",
       "      <td>1.213435e+07</td>\n",
       "      <td>262803276</td>\n",
       "      <td>0.046173</td>\n",
       "      <td>2.296123e+08</td>\n",
       "    </tr>\n",
       "    <tr>\n",
       "      <th>9</th>\n",
       "      <td>1997</td>\n",
       "      <td>Batman &amp; Robin</td>\n",
       "      <td>DC</td>\n",
       "      <td>3.6</td>\n",
       "      <td>12</td>\n",
       "      <td>24.0</td>\n",
       "      <td>42872605.0</td>\n",
       "      <td>4.59</td>\n",
       "      <td>9.340437e+06</td>\n",
       "      <td>267783607</td>\n",
       "      <td>0.034881</td>\n",
       "      <td>1.967853e+08</td>\n",
       "    </tr>\n",
       "  </tbody>\n",
       "</table>\n",
       "</div>"
      ],
      "text/plain": [
       "   Year                             Title   Comic  IMDB Score  RT Score  \\\n",
       "0  1978                          Superman      DC         7.3        95   \n",
       "1  1980                       Superman II      DC         6.7        88   \n",
       "2  1983                      Superman III      DC         4.9        24   \n",
       "3  1984                         Supergirl      DC         4.2         8   \n",
       "4  1986                   Howard the Duck  Marvel         4.3        16   \n",
       "5  1987  Superman IV: The Quest for Peace      DC         3.6        10   \n",
       "6  1989                            Batman      DC         7.6        71   \n",
       "7  1992                    Batman Returns      DC         7.0        78   \n",
       "8  1995                    Batman Forever      DC         5.4        42   \n",
       "9  1997                    Batman & Robin      DC         3.6        12   \n",
       "\n",
       "   Composite Score  Opening Weekend  Box Office  Avg Ticket Price  \\\n",
       "0             84.0                    7465343.0              2.34   \n",
       "1             77.5                   14100523.0              2.69   \n",
       "2             36.5                   13352357.0              3.15   \n",
       "3             25.0                    5738249.0              3.36   \n",
       "4             29.5                    5070136.0              3.71   \n",
       "5             23.0                    5683122.0              3.91   \n",
       "6             73.5                   40489746.0              3.97   \n",
       "7             74.0                   45687711.0              4.15   \n",
       "8             48.0                   52784433.0              4.35   \n",
       "9             24.0                   42872605.0              4.59   \n",
       "\n",
       "   Opening Weekend Attendance  US Population That Year  pct_of_pop  \\\n",
       "0                3.190318e+06                222584545    0.014333   \n",
       "1                5.241830e+06                227224681    0.023069   \n",
       "2                4.238843e+06                233791994    0.018131   \n",
       "3                1.707812e+06                235824902    0.007242   \n",
       "4                1.366613e+06                240132887    0.005691   \n",
       "5                1.453484e+06                242288918    0.005999   \n",
       "6                1.019893e+07                246819230    0.041321   \n",
       "7                1.100909e+07                255029699    0.043168   \n",
       "8                1.213435e+07                262803276    0.046173   \n",
       "9                9.340437e+06                267783607    0.034881   \n",
       "\n",
       "   box_off_estimate  \n",
       "0      1.746890e+07  \n",
       "1      3.793041e+07  \n",
       "2      4.205992e+07  \n",
       "3      1.928052e+07  \n",
       "4      1.881020e+07  \n",
       "5      2.222101e+07  \n",
       "6      1.607443e+08  \n",
       "7      1.896040e+08  \n",
       "8      2.296123e+08  \n",
       "9      1.967853e+08  "
      ]
     },
     "execution_count": 40,
     "metadata": {},
     "output_type": "execute_result"
    }
   ],
   "source": [
    "shdf.head(10)"
   ]
  },
  {
   "cell_type": "code",
   "execution_count": 41,
   "metadata": {
    "tags": []
   },
   "outputs": [
    {
     "data": {
      "text/html": [
       "<div>\n",
       "<style scoped>\n",
       "    .dataframe tbody tr th:only-of-type {\n",
       "        vertical-align: middle;\n",
       "    }\n",
       "\n",
       "    .dataframe tbody tr th {\n",
       "        vertical-align: top;\n",
       "    }\n",
       "\n",
       "    .dataframe thead th {\n",
       "        text-align: right;\n",
       "    }\n",
       "</style>\n",
       "<table border=\"1\" class=\"dataframe\">\n",
       "  <thead>\n",
       "    <tr style=\"text-align: right;\">\n",
       "      <th></th>\n",
       "      <th>Year</th>\n",
       "      <th>Title</th>\n",
       "      <th>Comic</th>\n",
       "      <th>IMDB Score</th>\n",
       "      <th>RT Score</th>\n",
       "      <th>Composite Score</th>\n",
       "      <th>Opening Weekend  Box Office</th>\n",
       "      <th>Avg Ticket Price</th>\n",
       "      <th>Opening Weekend Attendance</th>\n",
       "      <th>US Population That Year</th>\n",
       "      <th>pct_of_pop</th>\n",
       "      <th>box_off_estimate</th>\n",
       "    </tr>\n",
       "  </thead>\n",
       "  <tbody>\n",
       "    <tr>\n",
       "      <th>33</th>\n",
       "      <td>2008</td>\n",
       "      <td>Punisher: War Zone</td>\n",
       "      <td>Marvel</td>\n",
       "      <td>6.0</td>\n",
       "      <td>26</td>\n",
       "      <td>43.0</td>\n",
       "      <td>4271451.0</td>\n",
       "      <td>7.18</td>\n",
       "      <td>5.949096e+05</td>\n",
       "      <td>304374846</td>\n",
       "      <td>0.001955</td>\n",
       "      <td>3.066902e+07</td>\n",
       "    </tr>\n",
       "    <tr>\n",
       "      <th>32</th>\n",
       "      <td>2008</td>\n",
       "      <td>Iron Man</td>\n",
       "      <td>Marvel</td>\n",
       "      <td>7.9</td>\n",
       "      <td>94</td>\n",
       "      <td>86.5</td>\n",
       "      <td>98618668.0</td>\n",
       "      <td>7.18</td>\n",
       "      <td>1.373519e+07</td>\n",
       "      <td>304374846</td>\n",
       "      <td>0.045126</td>\n",
       "      <td>7.080820e+08</td>\n",
       "    </tr>\n",
       "    <tr>\n",
       "      <th>0</th>\n",
       "      <td>1978</td>\n",
       "      <td>Superman</td>\n",
       "      <td>DC</td>\n",
       "      <td>7.3</td>\n",
       "      <td>95</td>\n",
       "      <td>84.0</td>\n",
       "      <td>7465343.0</td>\n",
       "      <td>2.34</td>\n",
       "      <td>3.190318e+06</td>\n",
       "      <td>222584545</td>\n",
       "      <td>0.014333</td>\n",
       "      <td>1.746890e+07</td>\n",
       "    </tr>\n",
       "    <tr>\n",
       "      <th>3</th>\n",
       "      <td>1984</td>\n",
       "      <td>Supergirl</td>\n",
       "      <td>DC</td>\n",
       "      <td>4.2</td>\n",
       "      <td>8</td>\n",
       "      <td>25.0</td>\n",
       "      <td>5738249.0</td>\n",
       "      <td>3.36</td>\n",
       "      <td>1.707812e+06</td>\n",
       "      <td>235824902</td>\n",
       "      <td>0.007242</td>\n",
       "      <td>1.928052e+07</td>\n",
       "    </tr>\n",
       "    <tr>\n",
       "      <th>25</th>\n",
       "      <td>2006</td>\n",
       "      <td>Superman Returns</td>\n",
       "      <td>DC</td>\n",
       "      <td>6.3</td>\n",
       "      <td>76</td>\n",
       "      <td>69.5</td>\n",
       "      <td>52535096.0</td>\n",
       "      <td>6.55</td>\n",
       "      <td>8.020625e+06</td>\n",
       "      <td>298593212</td>\n",
       "      <td>0.026861</td>\n",
       "      <td>3.441049e+08</td>\n",
       "    </tr>\n",
       "  </tbody>\n",
       "</table>\n",
       "</div>"
      ],
      "text/plain": [
       "    Year               Title   Comic  IMDB Score  RT Score  Composite Score  \\\n",
       "33  2008  Punisher: War Zone  Marvel         6.0        26             43.0   \n",
       "32  2008            Iron Man  Marvel         7.9        94             86.5   \n",
       "0   1978            Superman      DC         7.3        95             84.0   \n",
       "3   1984           Supergirl      DC         4.2         8             25.0   \n",
       "25  2006    Superman Returns      DC         6.3        76             69.5   \n",
       "\n",
       "    Opening Weekend  Box Office  Avg Ticket Price  Opening Weekend Attendance  \\\n",
       "33                    4271451.0              7.18                5.949096e+05   \n",
       "32                   98618668.0              7.18                1.373519e+07   \n",
       "0                     7465343.0              2.34                3.190318e+06   \n",
       "3                     5738249.0              3.36                1.707812e+06   \n",
       "25                   52535096.0              6.55                8.020625e+06   \n",
       "\n",
       "    US Population That Year  pct_of_pop  box_off_estimate  \n",
       "33                304374846    0.001955      3.066902e+07  \n",
       "32                304374846    0.045126      7.080820e+08  \n",
       "0                 222584545    0.014333      1.746890e+07  \n",
       "3                 235824902    0.007242      1.928052e+07  \n",
       "25                298593212    0.026861      3.441049e+08  "
      ]
     },
     "execution_count": 41,
     "metadata": {},
     "output_type": "execute_result"
    }
   ],
   "source": [
    "shdf.sample(5)"
   ]
  },
  {
   "cell_type": "code",
   "execution_count": 42,
   "metadata": {
    "tags": []
   },
   "outputs": [
    {
     "data": {
      "text/html": [
       "<div>\n",
       "<style scoped>\n",
       "    .dataframe tbody tr th:only-of-type {\n",
       "        vertical-align: middle;\n",
       "    }\n",
       "\n",
       "    .dataframe tbody tr th {\n",
       "        vertical-align: top;\n",
       "    }\n",
       "\n",
       "    .dataframe thead th {\n",
       "        text-align: right;\n",
       "    }\n",
       "</style>\n",
       "<table border=\"1\" class=\"dataframe\">\n",
       "  <thead>\n",
       "    <tr style=\"text-align: right;\">\n",
       "      <th></th>\n",
       "      <th>Year</th>\n",
       "      <th>Title</th>\n",
       "      <th>Comic</th>\n",
       "      <th>IMDB Score</th>\n",
       "      <th>RT Score</th>\n",
       "      <th>Composite Score</th>\n",
       "      <th>Opening Weekend  Box Office</th>\n",
       "      <th>Avg Ticket Price</th>\n",
       "      <th>Opening Weekend Attendance</th>\n",
       "      <th>US Population That Year</th>\n",
       "      <th>pct_of_pop</th>\n",
       "      <th>box_off_estimate</th>\n",
       "    </tr>\n",
       "  </thead>\n",
       "  <tbody>\n",
       "    <tr>\n",
       "      <th>10</th>\n",
       "      <td>1997</td>\n",
       "      <td>Steel</td>\n",
       "      <td>DC</td>\n",
       "      <td>2.7</td>\n",
       "      <td>12</td>\n",
       "      <td>19.5</td>\n",
       "      <td>870068.0</td>\n",
       "      <td>4.59</td>\n",
       "      <td>1.895573e+05</td>\n",
       "      <td>267783607</td>\n",
       "      <td>0.000708</td>\n",
       "      <td>3.993612e+06</td>\n",
       "    </tr>\n",
       "    <tr>\n",
       "      <th>11</th>\n",
       "      <td>1998</td>\n",
       "      <td>Blade</td>\n",
       "      <td>Marvel</td>\n",
       "      <td>7.0</td>\n",
       "      <td>55</td>\n",
       "      <td>62.5</td>\n",
       "      <td>17073856.0</td>\n",
       "      <td>4.69</td>\n",
       "      <td>3.640481e+06</td>\n",
       "      <td>270248003</td>\n",
       "      <td>0.013471</td>\n",
       "      <td>8.007638e+07</td>\n",
       "    </tr>\n",
       "    <tr>\n",
       "      <th>12</th>\n",
       "      <td>2000</td>\n",
       "      <td>X-Men</td>\n",
       "      <td>Marvel</td>\n",
       "      <td>7.4</td>\n",
       "      <td>82</td>\n",
       "      <td>78.0</td>\n",
       "      <td>54471475.0</td>\n",
       "      <td>5.39</td>\n",
       "      <td>1.010603e+07</td>\n",
       "      <td>282171957</td>\n",
       "      <td>0.035815</td>\n",
       "      <td>2.936013e+08</td>\n",
       "    </tr>\n",
       "    <tr>\n",
       "      <th>13</th>\n",
       "      <td>2002</td>\n",
       "      <td>Blade II</td>\n",
       "      <td>Marvel</td>\n",
       "      <td>6.6</td>\n",
       "      <td>59</td>\n",
       "      <td>62.5</td>\n",
       "      <td>32528016.0</td>\n",
       "      <td>5.81</td>\n",
       "      <td>5.598626e+06</td>\n",
       "      <td>287803914</td>\n",
       "      <td>0.019453</td>\n",
       "      <td>1.889878e+08</td>\n",
       "    </tr>\n",
       "    <tr>\n",
       "      <th>14</th>\n",
       "      <td>2002</td>\n",
       "      <td>Spider-Man</td>\n",
       "      <td>Marvel</td>\n",
       "      <td>7.4</td>\n",
       "      <td>89</td>\n",
       "      <td>81.5</td>\n",
       "      <td>114844116.0</td>\n",
       "      <td>5.81</td>\n",
       "      <td>1.976663e+07</td>\n",
       "      <td>287803914</td>\n",
       "      <td>0.068681</td>\n",
       "      <td>6.672443e+08</td>\n",
       "    </tr>\n",
       "  </tbody>\n",
       "</table>\n",
       "</div>"
      ],
      "text/plain": [
       "    Year       Title   Comic  IMDB Score  RT Score  Composite Score  \\\n",
       "10  1997       Steel      DC         2.7        12             19.5   \n",
       "11  1998       Blade  Marvel         7.0        55             62.5   \n",
       "12  2000       X-Men  Marvel         7.4        82             78.0   \n",
       "13  2002    Blade II  Marvel         6.6        59             62.5   \n",
       "14  2002  Spider-Man  Marvel         7.4        89             81.5   \n",
       "\n",
       "    Opening Weekend  Box Office  Avg Ticket Price  Opening Weekend Attendance  \\\n",
       "10                     870068.0              4.59                1.895573e+05   \n",
       "11                   17073856.0              4.69                3.640481e+06   \n",
       "12                   54471475.0              5.39                1.010603e+07   \n",
       "13                   32528016.0              5.81                5.598626e+06   \n",
       "14                  114844116.0              5.81                1.976663e+07   \n",
       "\n",
       "    US Population That Year  pct_of_pop  box_off_estimate  \n",
       "10                267783607    0.000708      3.993612e+06  \n",
       "11                270248003    0.013471      8.007638e+07  \n",
       "12                282171957    0.035815      2.936013e+08  \n",
       "13                287803914    0.019453      1.889878e+08  \n",
       "14                287803914    0.068681      6.672443e+08  "
      ]
     },
     "execution_count": 42,
     "metadata": {},
     "output_type": "execute_result"
    }
   ],
   "source": [
    "shdf[10:15]"
   ]
  },
  {
   "cell_type": "code",
   "execution_count": 44,
   "metadata": {
    "tags": []
   },
   "outputs": [
    {
     "name": "stdout",
     "output_type": "stream",
     "text": [
      "<class 'pandas.core.frame.DataFrame'>\n",
      "RangeIndex: 46 entries, 0 to 45\n",
      "Data columns (total 12 columns):\n",
      " #   Column                       Non-Null Count  Dtype  \n",
      "---  ------                       --------------  -----  \n",
      " 0   Year                         46 non-null     int64  \n",
      " 1   Title                        46 non-null     object \n",
      " 2   Comic                        46 non-null     object \n",
      " 3   IMDB Score                   46 non-null     float64\n",
      " 4   RT Score                     46 non-null     int64  \n",
      " 5   Composite Score              46 non-null     float64\n",
      " 6   Opening Weekend  Box Office  46 non-null     float64\n",
      " 7   Avg Ticket Price             46 non-null     float64\n",
      " 8   Opening Weekend Attendance   46 non-null     float64\n",
      " 9   US Population That Year      46 non-null     int64  \n",
      " 10  pct_of_pop                   46 non-null     float64\n",
      " 11  box_off_estimate             46 non-null     float64\n",
      "dtypes: float64(7), int64(3), object(2)\n",
      "memory usage: 4.4+ KB\n"
     ]
    }
   ],
   "source": [
    "shdf.info()"
   ]
  },
  {
   "cell_type": "code",
   "execution_count": 45,
   "metadata": {
    "tags": []
   },
   "outputs": [
    {
     "data": {
      "text/plain": [
       "9.1"
      ]
     },
     "execution_count": 45,
     "metadata": {},
     "output_type": "execute_result"
    }
   ],
   "source": [
    "max_imdb_score = shdf['IMDB Score'].max()\n",
    "max_imdb_score"
   ]
  },
  {
   "cell_type": "code",
   "execution_count": 47,
   "metadata": {
    "tags": []
   },
   "outputs": [
    {
     "data": {
      "text/html": [
       "<div>\n",
       "<style scoped>\n",
       "    .dataframe tbody tr th:only-of-type {\n",
       "        vertical-align: middle;\n",
       "    }\n",
       "\n",
       "    .dataframe tbody tr th {\n",
       "        vertical-align: top;\n",
       "    }\n",
       "\n",
       "    .dataframe thead th {\n",
       "        text-align: right;\n",
       "    }\n",
       "</style>\n",
       "<table border=\"1\" class=\"dataframe\">\n",
       "  <thead>\n",
       "    <tr style=\"text-align: right;\">\n",
       "      <th></th>\n",
       "      <th>Year</th>\n",
       "      <th>Title</th>\n",
       "      <th>Comic</th>\n",
       "      <th>IMDB Score</th>\n",
       "      <th>RT Score</th>\n",
       "      <th>Composite Score</th>\n",
       "      <th>Opening Weekend  Box Office</th>\n",
       "      <th>Avg Ticket Price</th>\n",
       "      <th>Opening Weekend Attendance</th>\n",
       "      <th>US Population That Year</th>\n",
       "      <th>pct_of_pop</th>\n",
       "      <th>box_off_estimate</th>\n",
       "    </tr>\n",
       "  </thead>\n",
       "  <tbody>\n",
       "    <tr>\n",
       "      <th>43</th>\n",
       "      <td>2012</td>\n",
       "      <td>The Dark Knight Rises</td>\n",
       "      <td>DC</td>\n",
       "      <td>9.1</td>\n",
       "      <td>86</td>\n",
       "      <td>88.5</td>\n",
       "      <td>160887295.0</td>\n",
       "      <td>7.92</td>\n",
       "      <td>20314052.4</td>\n",
       "      <td>314055984</td>\n",
       "      <td>0.064683</td>\n",
       "      <td>1.274227e+09</td>\n",
       "    </tr>\n",
       "  </tbody>\n",
       "</table>\n",
       "</div>"
      ],
      "text/plain": [
       "    Year                  Title Comic  IMDB Score  RT Score  Composite Score  \\\n",
       "43  2012  The Dark Knight Rises    DC         9.1        86             88.5   \n",
       "\n",
       "    Opening Weekend  Box Office  Avg Ticket Price  Opening Weekend Attendance  \\\n",
       "43                  160887295.0              7.92                  20314052.4   \n",
       "\n",
       "    US Population That Year  pct_of_pop  box_off_estimate  \n",
       "43                314055984    0.064683      1.274227e+09  "
      ]
     },
     "execution_count": 47,
     "metadata": {},
     "output_type": "execute_result"
    }
   ],
   "source": [
    "shdf[shdf['IMDB Score'] == 9.1]"
   ]
  },
  {
   "cell_type": "code",
   "execution_count": 48,
   "metadata": {
    "tags": []
   },
   "outputs": [
    {
     "data": {
      "text/html": [
       "<div>\n",
       "<style scoped>\n",
       "    .dataframe tbody tr th:only-of-type {\n",
       "        vertical-align: middle;\n",
       "    }\n",
       "\n",
       "    .dataframe tbody tr th {\n",
       "        vertical-align: top;\n",
       "    }\n",
       "\n",
       "    .dataframe thead th {\n",
       "        text-align: right;\n",
       "    }\n",
       "</style>\n",
       "<table border=\"1\" class=\"dataframe\">\n",
       "  <thead>\n",
       "    <tr style=\"text-align: right;\">\n",
       "      <th></th>\n",
       "      <th>Year</th>\n",
       "      <th>Title</th>\n",
       "      <th>Comic</th>\n",
       "      <th>IMDB Score</th>\n",
       "      <th>RT Score</th>\n",
       "      <th>Composite Score</th>\n",
       "      <th>Opening Weekend  Box Office</th>\n",
       "      <th>Avg Ticket Price</th>\n",
       "      <th>Opening Weekend Attendance</th>\n",
       "      <th>US Population That Year</th>\n",
       "      <th>pct_of_pop</th>\n",
       "      <th>box_off_estimate</th>\n",
       "    </tr>\n",
       "  </thead>\n",
       "  <tbody>\n",
       "    <tr>\n",
       "      <th>3</th>\n",
       "      <td>1984</td>\n",
       "      <td>Supergirl</td>\n",
       "      <td>DC</td>\n",
       "      <td>4.2</td>\n",
       "      <td>8</td>\n",
       "      <td>25.0</td>\n",
       "      <td>5738249.0</td>\n",
       "      <td>3.36</td>\n",
       "      <td>1707812.202</td>\n",
       "      <td>235824902</td>\n",
       "      <td>0.007242</td>\n",
       "      <td>19280516.64</td>\n",
       "    </tr>\n",
       "  </tbody>\n",
       "</table>\n",
       "</div>"
      ],
      "text/plain": [
       "   Year      Title Comic  IMDB Score  RT Score  Composite Score  \\\n",
       "3  1984  Supergirl    DC         4.2         8             25.0   \n",
       "\n",
       "   Opening Weekend  Box Office  Avg Ticket Price  Opening Weekend Attendance  \\\n",
       "3                    5738249.0              3.36                 1707812.202   \n",
       "\n",
       "   US Population That Year  pct_of_pop  box_off_estimate  \n",
       "3                235824902    0.007242       19280516.64  "
      ]
     },
     "execution_count": 48,
     "metadata": {},
     "output_type": "execute_result"
    }
   ],
   "source": [
    "## The movie with the lowest RT Score\n",
    "shdf[shdf['RT Score'] == shdf['RT Score'].min()]"
   ]
  },
  {
   "cell_type": "code",
   "execution_count": 50,
   "metadata": {
    "tags": []
   },
   "outputs": [],
   "source": [
    "website = \"https://ist256.com/\"\n",
    "website_local = \"IST256.html\"\n",
    "\n",
    "dfs = pd.read_html(website_local)"
   ]
  },
  {
   "cell_type": "code",
   "execution_count": 51,
   "metadata": {
    "tags": []
   },
   "outputs": [
    {
     "data": {
      "text/html": [
       "<div>\n",
       "<style scoped>\n",
       "    .dataframe tbody tr th:only-of-type {\n",
       "        vertical-align: middle;\n",
       "    }\n",
       "\n",
       "    .dataframe tbody tr th {\n",
       "        vertical-align: top;\n",
       "    }\n",
       "\n",
       "    .dataframe thead th {\n",
       "        text-align: right;\n",
       "    }\n",
       "</style>\n",
       "<table border=\"1\" class=\"dataframe\">\n",
       "  <thead>\n",
       "    <tr style=\"text-align: right;\">\n",
       "      <th></th>\n",
       "      <th>Dates</th>\n",
       "      <th>Topic</th>\n",
       "    </tr>\n",
       "  </thead>\n",
       "  <tbody>\n",
       "    <tr>\n",
       "      <th>0</th>\n",
       "      <td>8/26 - 9/1</td>\n",
       "      <td>Lesson 01: Introduction to Python Programming</td>\n",
       "    </tr>\n",
       "    <tr>\n",
       "      <th>1</th>\n",
       "      <td>9/2 - 9/8</td>\n",
       "      <td>Lesson 02: Input, Output, Variables and Types ...</td>\n",
       "    </tr>\n",
       "    <tr>\n",
       "      <th>2</th>\n",
       "      <td>9/9 - 9/15</td>\n",
       "      <td>Lesson 03: Conditionals</td>\n",
       "    </tr>\n",
       "    <tr>\n",
       "      <th>3</th>\n",
       "      <td>9/16 - 9/22</td>\n",
       "      <td>Lesson 04: Iterations E1 9/18 on in Small Group</td>\n",
       "    </tr>\n",
       "    <tr>\n",
       "      <th>4</th>\n",
       "      <td>9/23 - 9/29</td>\n",
       "      <td>Lesson 05: User-defined Functions, Modules</td>\n",
       "    </tr>\n",
       "    <tr>\n",
       "      <th>5</th>\n",
       "      <td>9/30 - 10/6</td>\n",
       "      <td>Lesson 06: Strings and Text Processing</td>\n",
       "    </tr>\n",
       "    <tr>\n",
       "      <th>6</th>\n",
       "      <td>10/7 - 10/13</td>\n",
       "      <td>Lesson 07: File I/O and Persistence</td>\n",
       "    </tr>\n",
       "    <tr>\n",
       "      <th>7</th>\n",
       "      <td>10/14- 10/20</td>\n",
       "      <td>Fall Break 10/14 and 10/15 E2 on 10/16 in Smal...</td>\n",
       "    </tr>\n",
       "    <tr>\n",
       "      <th>8</th>\n",
       "      <td>10/21 - 10/27</td>\n",
       "      <td>Lesson 08: Lists</td>\n",
       "    </tr>\n",
       "    <tr>\n",
       "      <th>9</th>\n",
       "      <td>10/28 - 11/3</td>\n",
       "      <td>Lesson 09: Dictionaries and JSON</td>\n",
       "    </tr>\n",
       "    <tr>\n",
       "      <th>10</th>\n",
       "      <td>11/4 - 11/10</td>\n",
       "      <td>Lesson 10: Pandas I E3 on 11/6 in Small Group</td>\n",
       "    </tr>\n",
       "    <tr>\n",
       "      <th>11</th>\n",
       "      <td>11/11 - 11/17</td>\n",
       "      <td>Lesson 11: Pandas II  P1 project deliverable d...</td>\n",
       "    </tr>\n",
       "    <tr>\n",
       "      <th>12</th>\n",
       "      <td>11/18 - 11/24</td>\n",
       "      <td>Lesson 12: Data Visualization</td>\n",
       "    </tr>\n",
       "    <tr>\n",
       "      <th>13</th>\n",
       "      <td>11/25 - 12/1</td>\n",
       "      <td>Thanksgiving Break - No Classes</td>\n",
       "    </tr>\n",
       "    <tr>\n",
       "      <th>14</th>\n",
       "      <td>12/2 - 12/8</td>\n",
       "      <td>Lesson 13: Web API’s P2 project deliverable du...</td>\n",
       "    </tr>\n",
       "    <tr>\n",
       "      <th>15</th>\n",
       "      <td>12/9 - 12/15</td>\n",
       "      <td>E4 on 12/9 in Large Group  P3 and P4 Project d...</td>\n",
       "    </tr>\n",
       "  </tbody>\n",
       "</table>\n",
       "</div>"
      ],
      "text/plain": [
       "            Dates                                              Topic\n",
       "0      8/26 - 9/1      Lesson 01: Introduction to Python Programming\n",
       "1       9/2 - 9/8  Lesson 02: Input, Output, Variables and Types ...\n",
       "2      9/9 - 9/15                            Lesson 03: Conditionals\n",
       "3     9/16 - 9/22    Lesson 04: Iterations E1 9/18 on in Small Group\n",
       "4     9/23 - 9/29         Lesson 05: User-defined Functions, Modules\n",
       "5     9/30 - 10/6             Lesson 06: Strings and Text Processing\n",
       "6    10/7 - 10/13                Lesson 07: File I/O and Persistence\n",
       "7    10/14- 10/20  Fall Break 10/14 and 10/15 E2 on 10/16 in Smal...\n",
       "8   10/21 - 10/27                                   Lesson 08: Lists\n",
       "9    10/28 - 11/3                   Lesson 09: Dictionaries and JSON\n",
       "10   11/4 - 11/10      Lesson 10: Pandas I E3 on 11/6 in Small Group\n",
       "11  11/11 - 11/17  Lesson 11: Pandas II  P1 project deliverable d...\n",
       "12  11/18 - 11/24                      Lesson 12: Data Visualization\n",
       "13   11/25 - 12/1                    Thanksgiving Break - No Classes\n",
       "14    12/2 - 12/8  Lesson 13: Web API’s P2 project deliverable du...\n",
       "15   12/9 - 12/15  E4 on 12/9 in Large Group  P3 and P4 Project d..."
      ]
     },
     "execution_count": 51,
     "metadata": {},
     "output_type": "execute_result"
    }
   ],
   "source": [
    "dfs[0]"
   ]
  },
  {
   "cell_type": "code",
   "execution_count": 52,
   "metadata": {
    "tags": []
   },
   "outputs": [],
   "source": [
    "df_due = dfs[-1]"
   ]
  },
  {
   "cell_type": "code",
   "execution_count": 54,
   "metadata": {
    "tags": []
   },
   "outputs": [
    {
     "data": {
      "text/html": [
       "<div>\n",
       "<style scoped>\n",
       "    .dataframe tbody tr th:only-of-type {\n",
       "        vertical-align: middle;\n",
       "    }\n",
       "\n",
       "    .dataframe tbody tr th {\n",
       "        vertical-align: top;\n",
       "    }\n",
       "\n",
       "    .dataframe thead th {\n",
       "        text-align: right;\n",
       "    }\n",
       "</style>\n",
       "<table border=\"1\" class=\"dataframe\">\n",
       "  <thead>\n",
       "    <tr style=\"text-align: right;\">\n",
       "      <th></th>\n",
       "      <th>Date Due</th>\n",
       "      <th>Time Due</th>\n",
       "      <th>Gradebook</th>\n",
       "      <th>Points</th>\n",
       "      <th>Where?</th>\n",
       "      <th>What is Due?</th>\n",
       "    </tr>\n",
       "  </thead>\n",
       "  <tbody>\n",
       "    <tr>\n",
       "      <th>0</th>\n",
       "      <td>8/27/2024</td>\n",
       "      <td>11:59 PM</td>\n",
       "      <td>L01</td>\n",
       "      <td>3</td>\n",
       "      <td>Jupyterhub</td>\n",
       "      <td>01-Intro/LAB-Intro.ipynb</td>\n",
       "    </tr>\n",
       "    <tr>\n",
       "      <th>1</th>\n",
       "      <td>8/28/2024</td>\n",
       "      <td>11:59 PM</td>\n",
       "      <td>S01</td>\n",
       "      <td>3</td>\n",
       "      <td>Jupyterhub</td>\n",
       "      <td>01-Intro/SmallGroup-Intro.ipynb</td>\n",
       "    </tr>\n",
       "    <tr>\n",
       "      <th>2</th>\n",
       "      <td>8/30/2024</td>\n",
       "      <td>11:59 PM</td>\n",
       "      <td>H01</td>\n",
       "      <td>3</td>\n",
       "      <td>Jupyterhub</td>\n",
       "      <td>01-Intro/HW-Intro.ipynb</td>\n",
       "    </tr>\n",
       "    <tr>\n",
       "      <th>3</th>\n",
       "      <td>9/3/2024</td>\n",
       "      <td>11:59 PM</td>\n",
       "      <td>L02</td>\n",
       "      <td>3</td>\n",
       "      <td>Jupyterhub</td>\n",
       "      <td>02-Variables/LAB-Variables.ipynb</td>\n",
       "    </tr>\n",
       "    <tr>\n",
       "      <th>4</th>\n",
       "      <td>9/4/2024</td>\n",
       "      <td>11:59 PM</td>\n",
       "      <td>S02</td>\n",
       "      <td>3</td>\n",
       "      <td>Jupyterhub</td>\n",
       "      <td>02-Variables/SmallGroup-Variables.ipynb</td>\n",
       "    </tr>\n",
       "  </tbody>\n",
       "</table>\n",
       "</div>"
      ],
      "text/plain": [
       "    Date Due  Time Due Gradebook  Points      Where?  \\\n",
       "0  8/27/2024  11:59 PM       L01       3  Jupyterhub   \n",
       "1  8/28/2024  11:59 PM       S01       3  Jupyterhub   \n",
       "2  8/30/2024  11:59 PM       H01       3  Jupyterhub   \n",
       "3   9/3/2024  11:59 PM       L02       3  Jupyterhub   \n",
       "4   9/4/2024  11:59 PM       S02       3  Jupyterhub   \n",
       "\n",
       "                              What is Due?  \n",
       "0                 01-Intro/LAB-Intro.ipynb  \n",
       "1          01-Intro/SmallGroup-Intro.ipynb  \n",
       "2                  01-Intro/HW-Intro.ipynb  \n",
       "3         02-Variables/LAB-Variables.ipynb  \n",
       "4  02-Variables/SmallGroup-Variables.ipynb  "
      ]
     },
     "execution_count": 54,
     "metadata": {},
     "output_type": "execute_result"
    }
   ],
   "source": [
    "df_due.head()"
   ]
  },
  {
   "cell_type": "code",
   "execution_count": 55,
   "metadata": {
    "tags": []
   },
   "outputs": [
    {
     "data": {
      "text/html": [
       "<div>\n",
       "<style scoped>\n",
       "    .dataframe tbody tr th:only-of-type {\n",
       "        vertical-align: middle;\n",
       "    }\n",
       "\n",
       "    .dataframe tbody tr th {\n",
       "        vertical-align: top;\n",
       "    }\n",
       "\n",
       "    .dataframe thead th {\n",
       "        text-align: right;\n",
       "    }\n",
       "</style>\n",
       "<table border=\"1\" class=\"dataframe\">\n",
       "  <thead>\n",
       "    <tr style=\"text-align: right;\">\n",
       "      <th></th>\n",
       "      <th>Date Due</th>\n",
       "      <th>Time Due</th>\n",
       "      <th>Gradebook</th>\n",
       "      <th>Points</th>\n",
       "      <th>Where?</th>\n",
       "      <th>What is Due?</th>\n",
       "    </tr>\n",
       "  </thead>\n",
       "  <tbody>\n",
       "    <tr>\n",
       "      <th>2</th>\n",
       "      <td>8/30/2024</td>\n",
       "      <td>11:59 PM</td>\n",
       "      <td>H01</td>\n",
       "      <td>3</td>\n",
       "      <td>Jupyterhub</td>\n",
       "      <td>01-Intro/HW-Intro.ipynb</td>\n",
       "    </tr>\n",
       "    <tr>\n",
       "      <th>5</th>\n",
       "      <td>9/6/2024</td>\n",
       "      <td>11:59 PM</td>\n",
       "      <td>H02</td>\n",
       "      <td>3</td>\n",
       "      <td>Jupyterhub</td>\n",
       "      <td>02-Variables/HW-Variables.ipynb</td>\n",
       "    </tr>\n",
       "    <tr>\n",
       "      <th>8</th>\n",
       "      <td>9/13/2024</td>\n",
       "      <td>11:59 PM</td>\n",
       "      <td>H03</td>\n",
       "      <td>3</td>\n",
       "      <td>Jupyterhub</td>\n",
       "      <td>03-Conditionals/HW-Conditionals.ipynb</td>\n",
       "    </tr>\n",
       "    <tr>\n",
       "      <th>12</th>\n",
       "      <td>9/20/2024</td>\n",
       "      <td>11:59 PM</td>\n",
       "      <td>H04</td>\n",
       "      <td>3</td>\n",
       "      <td>Jupyterhub</td>\n",
       "      <td>04-Iterations/HW-Iterations.ipynb</td>\n",
       "    </tr>\n",
       "    <tr>\n",
       "      <th>15</th>\n",
       "      <td>9/27/2024</td>\n",
       "      <td>11:59 PM</td>\n",
       "      <td>H05</td>\n",
       "      <td>3</td>\n",
       "      <td>Jupyterhub</td>\n",
       "      <td>05-Functions/HW-Functions.ipynb</td>\n",
       "    </tr>\n",
       "    <tr>\n",
       "      <th>18</th>\n",
       "      <td>10/4/2024</td>\n",
       "      <td>11:59 PM</td>\n",
       "      <td>H06</td>\n",
       "      <td>3</td>\n",
       "      <td>Jupyterhub</td>\n",
       "      <td>06-Strings/HW-Strings.ipynb</td>\n",
       "    </tr>\n",
       "    <tr>\n",
       "      <th>21</th>\n",
       "      <td>10/11/2024</td>\n",
       "      <td>11:59 PM</td>\n",
       "      <td>H07</td>\n",
       "      <td>3</td>\n",
       "      <td>Jupyterhub</td>\n",
       "      <td>07-Files/HW-Files.ipynb</td>\n",
       "    </tr>\n",
       "    <tr>\n",
       "      <th>25</th>\n",
       "      <td>10/25/2024</td>\n",
       "      <td>11:59 PM</td>\n",
       "      <td>H08</td>\n",
       "      <td>3</td>\n",
       "      <td>Jupyterhub</td>\n",
       "      <td>08-Lists/HW-Lists.ipynb</td>\n",
       "    </tr>\n",
       "    <tr>\n",
       "      <th>28</th>\n",
       "      <td>11/1/2024</td>\n",
       "      <td>11:59 PM</td>\n",
       "      <td>H09</td>\n",
       "      <td>3</td>\n",
       "      <td>Jupyterhub</td>\n",
       "      <td>09-Dictionaries/HW-Dictionaries.ipynb</td>\n",
       "    </tr>\n",
       "    <tr>\n",
       "      <th>32</th>\n",
       "      <td>11/8/2024</td>\n",
       "      <td>11:59 PM</td>\n",
       "      <td>H10</td>\n",
       "      <td>3</td>\n",
       "      <td>Jupyterhub</td>\n",
       "      <td>10-Pandas-I/HW-PandasI.ipynb</td>\n",
       "    </tr>\n",
       "    <tr>\n",
       "      <th>35</th>\n",
       "      <td>11/15/2024</td>\n",
       "      <td>11:59 PM</td>\n",
       "      <td>H11</td>\n",
       "      <td>3</td>\n",
       "      <td>Jupyterhub</td>\n",
       "      <td>11-Pandas-II/HW-PandasII.ipynb</td>\n",
       "    </tr>\n",
       "    <tr>\n",
       "      <th>39</th>\n",
       "      <td>11/22/2024</td>\n",
       "      <td>11:59 PM</td>\n",
       "      <td>H12</td>\n",
       "      <td>3</td>\n",
       "      <td>Jupyterhub</td>\n",
       "      <td>12-Visualization/HW-Visualization.ipynb</td>\n",
       "    </tr>\n",
       "    <tr>\n",
       "      <th>42</th>\n",
       "      <td>12/6/2024</td>\n",
       "      <td>11:59 PM</td>\n",
       "      <td>H13</td>\n",
       "      <td>3</td>\n",
       "      <td>Jupyterhub</td>\n",
       "      <td>13-WebAPIs/HW-Webapis.ipynb</td>\n",
       "    </tr>\n",
       "  </tbody>\n",
       "</table>\n",
       "</div>"
      ],
      "text/plain": [
       "      Date Due  Time Due Gradebook  Points      Where?  \\\n",
       "2    8/30/2024  11:59 PM       H01       3  Jupyterhub   \n",
       "5     9/6/2024  11:59 PM       H02       3  Jupyterhub   \n",
       "8    9/13/2024  11:59 PM       H03       3  Jupyterhub   \n",
       "12   9/20/2024  11:59 PM       H04       3  Jupyterhub   \n",
       "15   9/27/2024  11:59 PM       H05       3  Jupyterhub   \n",
       "18   10/4/2024  11:59 PM       H06       3  Jupyterhub   \n",
       "21  10/11/2024  11:59 PM       H07       3  Jupyterhub   \n",
       "25  10/25/2024  11:59 PM       H08       3  Jupyterhub   \n",
       "28   11/1/2024  11:59 PM       H09       3  Jupyterhub   \n",
       "32   11/8/2024  11:59 PM       H10       3  Jupyterhub   \n",
       "35  11/15/2024  11:59 PM       H11       3  Jupyterhub   \n",
       "39  11/22/2024  11:59 PM       H12       3  Jupyterhub   \n",
       "42   12/6/2024  11:59 PM       H13       3  Jupyterhub   \n",
       "\n",
       "                               What is Due?  \n",
       "2                   01-Intro/HW-Intro.ipynb  \n",
       "5           02-Variables/HW-Variables.ipynb  \n",
       "8     03-Conditionals/HW-Conditionals.ipynb  \n",
       "12        04-Iterations/HW-Iterations.ipynb  \n",
       "15          05-Functions/HW-Functions.ipynb  \n",
       "18              06-Strings/HW-Strings.ipynb  \n",
       "21                  07-Files/HW-Files.ipynb  \n",
       "25                  08-Lists/HW-Lists.ipynb  \n",
       "28    09-Dictionaries/HW-Dictionaries.ipynb  \n",
       "32             10-Pandas-I/HW-PandasI.ipynb  \n",
       "35           11-Pandas-II/HW-PandasII.ipynb  \n",
       "39  12-Visualization/HW-Visualization.ipynb  \n",
       "42              13-WebAPIs/HW-Webapis.ipynb  "
      ]
     },
     "execution_count": 55,
     "metadata": {},
     "output_type": "execute_result"
    }
   ],
   "source": [
    "homeworks_df  = df_due[ df_due['Gradebook'].str.startswith(\"H\") ]\n",
    "homeworks_df"
   ]
  },
  {
   "cell_type": "code",
   "execution_count": 56,
   "metadata": {
    "tags": []
   },
   "outputs": [],
   "source": [
    "##\n",
    "## Input A Lesson 01 - 13\n",
    "## Output - All assignments due for that lesson\n",
    "##"
   ]
  },
  {
   "cell_type": "code",
   "execution_count": 64,
   "metadata": {
    "tags": []
   },
   "outputs": [
    {
     "data": {
      "application/vnd.jupyter.widget-view+json": {
       "model_id": "5f5e1a63248a4fa1b29ce210eb038d93",
       "version_major": 2,
       "version_minor": 0
      },
      "text/plain": [
       "interactive(children=(Dropdown(description='unit', options=('00', '01', '02', '03', '04', '05', '06', '07', '0…"
      ]
     },
     "metadata": {},
     "output_type": "display_data"
    }
   ],
   "source": [
    "from IPython.display import display\n",
    "from ipywidgets import interact_manual\n",
    "\n",
    "#units = [str(i).zfill(2) for i in range(14)]\n",
    "units = ['00', '01', '02', '03', '04', '05', '06', '07', '08', '09', '10', '11', '12', '13']\n",
    "\n",
    "df = pd.read_html(\"IST256.html\")[-1]\n",
    "\n",
    "@interact_manual(unit=units)\n",
    "def onclick(unit):\n",
    "    unit_assignments = df[ df['Gradebook'].str.endswith(unit) ]\n",
    "    display(unit_assignments)"
   ]
  },
  {
   "cell_type": "code",
   "execution_count": 60,
   "metadata": {
    "tags": []
   },
   "outputs": [
    {
     "data": {
      "text/plain": [
       "'004'"
      ]
     },
     "execution_count": 60,
     "metadata": {},
     "output_type": "execute_result"
    }
   ],
   "source": [
    " \"4\".zfill(3)"
   ]
  },
  {
   "cell_type": "code",
   "execution_count": null,
   "metadata": {},
   "outputs": [],
   "source": []
  }
 ],
 "metadata": {
  "kernelspec": {
   "display_name": "Python 3 (ipykernel)",
   "language": "python",
   "name": "python3"
  },
  "language_info": {
   "codemirror_mode": {
    "name": "ipython",
    "version": 3
   },
   "file_extension": ".py",
   "mimetype": "text/x-python",
   "name": "python",
   "nbconvert_exporter": "python",
   "pygments_lexer": "ipython3",
   "version": "3.11.7"
  },
  "varInspector": {
   "cols": {
    "lenName": 16,
    "lenType": 16,
    "lenVar": 40
   },
   "kernels_config": {
    "python": {
     "delete_cmd_postfix": "",
     "delete_cmd_prefix": "del ",
     "library": "var_list.py",
     "varRefreshCmd": "print(var_dic_list())"
    },
    "r": {
     "delete_cmd_postfix": ") ",
     "delete_cmd_prefix": "rm(",
     "library": "var_list.r",
     "varRefreshCmd": "cat(var_dic_list()) "
    }
   },
   "types_to_exclude": [
    "module",
    "function",
    "builtin_function_or_method",
    "instance",
    "_Feature"
   ],
   "window_display": false
  }
 },
 "nbformat": 4,
 "nbformat_minor": 4
}
