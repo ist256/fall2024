{
 "cells": [
  {
   "cell_type": "markdown",
   "metadata": {},
   "source": [
    "# Now You Code In Class: \n",
    "## Tricks of The Pandas Masters Volume I\n",
    "\n",
    "We will try something a bit different for our Activity - A series of Pandas coding challenges!\n",
    "\n",
    "Datasets we will use:\n",
    "\n",
    "- https://raw.githubusercontent.com/mafudge/datasets/master/flights/sample-flights.csv\n",
    "- https://raw.githubusercontent.com/mafudge/datasets/master/orders/sample-orders.csv\n"
   ]
  },
  {
   "cell_type": "code",
   "execution_count": 1,
   "metadata": {},
   "outputs": [],
   "source": [
    "import pandas as pd\n",
    "import numpy as np\n",
    "from IPython.display import display\n",
    "from ipywidgets import widgets, interact_manual\n",
    "\n",
    "pd.set_option('display.max_colwidth', None)"
   ]
  },
  {
   "cell_type": "markdown",
   "metadata": {},
   "source": [
    "## Reading a dataset into a dataframe.\n",
    "\n",
    "The following code loads the airline flights dataset into the variable `flights`"
   ]
  },
  {
   "cell_type": "code",
   "execution_count": 2,
   "metadata": {},
   "outputs": [
    {
     "data": {
      "text/html": [
       "<div>\n",
       "<style scoped>\n",
       "    .dataframe tbody tr th:only-of-type {\n",
       "        vertical-align: middle;\n",
       "    }\n",
       "\n",
       "    .dataframe tbody tr th {\n",
       "        vertical-align: top;\n",
       "    }\n",
       "\n",
       "    .dataframe thead th {\n",
       "        text-align: right;\n",
       "    }\n",
       "</style>\n",
       "<table border=\"1\" class=\"dataframe\">\n",
       "  <thead>\n",
       "    <tr style=\"text-align: right;\">\n",
       "      <th></th>\n",
       "      <th>flight_number</th>\n",
       "      <th>departure_airport_code</th>\n",
       "      <th>arrival_airport_code</th>\n",
       "      <th>departure_date</th>\n",
       "      <th>arrival_date</th>\n",
       "      <th>departure_time</th>\n",
       "      <th>arrival_time</th>\n",
       "      <th>flight_duration</th>\n",
       "      <th>airline_name</th>\n",
       "      <th>aircraft_type</th>\n",
       "    </tr>\n",
       "  </thead>\n",
       "  <tbody>\n",
       "    <tr>\n",
       "      <th>0</th>\n",
       "      <td>1350</td>\n",
       "      <td>KJP</td>\n",
       "      <td>VOG</td>\n",
       "      <td>2022-03-26</td>\n",
       "      <td>2022-03-07</td>\n",
       "      <td>5:04</td>\n",
       "      <td>23:25</td>\n",
       "      <td>10.96</td>\n",
       "      <td>United</td>\n",
       "      <td>Embraer E190</td>\n",
       "    </tr>\n",
       "    <tr>\n",
       "      <th>1</th>\n",
       "      <td>5381</td>\n",
       "      <td>FUN</td>\n",
       "      <td>POW</td>\n",
       "      <td>2022-11-01</td>\n",
       "      <td>2022-07-05</td>\n",
       "      <td>19:32</td>\n",
       "      <td>13:09</td>\n",
       "      <td>10.29</td>\n",
       "      <td>Southwest</td>\n",
       "      <td>Embraer E190</td>\n",
       "    </tr>\n",
       "    <tr>\n",
       "      <th>2</th>\n",
       "      <td>2892</td>\n",
       "      <td>ROR</td>\n",
       "      <td>COO</td>\n",
       "      <td>2022-11-09</td>\n",
       "      <td>2022-05-16</td>\n",
       "      <td>0:02</td>\n",
       "      <td>19:45</td>\n",
       "      <td>10.65</td>\n",
       "      <td>Delta</td>\n",
       "      <td>Boeing 747</td>\n",
       "    </tr>\n",
       "    <tr>\n",
       "      <th>3</th>\n",
       "      <td>2406</td>\n",
       "      <td>XGA</td>\n",
       "      <td>HCM</td>\n",
       "      <td>2022-01-09</td>\n",
       "      <td>2022-02-13</td>\n",
       "      <td>19:32</td>\n",
       "      <td>11:45</td>\n",
       "      <td>12.20</td>\n",
       "      <td>American</td>\n",
       "      <td>Boeing 737</td>\n",
       "    </tr>\n",
       "    <tr>\n",
       "      <th>4</th>\n",
       "      <td>1261</td>\n",
       "      <td>TDK</td>\n",
       "      <td>LKU</td>\n",
       "      <td>2022-02-07</td>\n",
       "      <td>2022-01-26</td>\n",
       "      <td>4:25</td>\n",
       "      <td>16:50</td>\n",
       "      <td>7.05</td>\n",
       "      <td>United</td>\n",
       "      <td>Boeing 737</td>\n",
       "    </tr>\n",
       "  </tbody>\n",
       "</table>\n",
       "</div>"
      ],
      "text/plain": [
       "   flight_number departure_airport_code arrival_airport_code departure_date  \\\n",
       "0           1350                    KJP                  VOG     2022-03-26   \n",
       "1           5381                    FUN                  POW     2022-11-01   \n",
       "2           2892                    ROR                  COO     2022-11-09   \n",
       "3           2406                    XGA                  HCM     2022-01-09   \n",
       "4           1261                    TDK                  LKU     2022-02-07   \n",
       "\n",
       "  arrival_date departure_time arrival_time  flight_duration airline_name  \\\n",
       "0   2022-03-07           5:04        23:25            10.96       United   \n",
       "1   2022-07-05          19:32        13:09            10.29    Southwest   \n",
       "2   2022-05-16           0:02        19:45            10.65        Delta   \n",
       "3   2022-02-13          19:32        11:45            12.20     American   \n",
       "4   2022-01-26           4:25        16:50             7.05       United   \n",
       "\n",
       "  aircraft_type  \n",
       "0  Embraer E190  \n",
       "1  Embraer E190  \n",
       "2    Boeing 747  \n",
       "3    Boeing 737  \n",
       "4    Boeing 737  "
      ]
     },
     "execution_count": 2,
     "metadata": {},
     "output_type": "execute_result"
    }
   ],
   "source": [
    "flights = pd.read_csv(\" https://raw.githubusercontent.com/mafudge/datasets/master/flights/sample-flights.csv\")\n",
    "flights.head()"
   ]
  },
  {
   "cell_type": "code",
   "execution_count": 6,
   "metadata": {},
   "outputs": [
    {
     "data": {
      "text/html": [
       "<div>\n",
       "<style scoped>\n",
       "    .dataframe tbody tr th:only-of-type {\n",
       "        vertical-align: middle;\n",
       "    }\n",
       "\n",
       "    .dataframe tbody tr th {\n",
       "        vertical-align: top;\n",
       "    }\n",
       "\n",
       "    .dataframe thead th {\n",
       "        text-align: right;\n",
       "    }\n",
       "</style>\n",
       "<table border=\"1\" class=\"dataframe\">\n",
       "  <thead>\n",
       "    <tr style=\"text-align: right;\">\n",
       "      <th></th>\n",
       "      <th>orderid</th>\n",
       "      <th>orderdate</th>\n",
       "      <th>custname</th>\n",
       "      <th>custemail</th>\n",
       "      <th>custcountry</th>\n",
       "      <th>orderstatus</th>\n",
       "      <th>ordertotal</th>\n",
       "      <th>ordercreditcard</th>\n",
       "      <th>ordershipvia</th>\n",
       "      <th>shippingtotal</th>\n",
       "    </tr>\n",
       "  </thead>\n",
       "  <tbody>\n",
       "    <tr>\n",
       "      <th>0</th>\n",
       "      <td>2</td>\n",
       "      <td>2023-03-24</td>\n",
       "      <td>Frayda Pepperd</td>\n",
       "      <td>fpepperd0@sciencedaily.com</td>\n",
       "      <td>Canada</td>\n",
       "      <td>delivered</td>\n",
       "      <td>228.39</td>\n",
       "      <td>Discover</td>\n",
       "      <td>RPS</td>\n",
       "      <td>12.05</td>\n",
       "    </tr>\n",
       "    <tr>\n",
       "      <th>1</th>\n",
       "      <td>3</td>\n",
       "      <td>2020-02-23</td>\n",
       "      <td>Loy Siberry</td>\n",
       "      <td>lsiberry1@so-net.ne.jp</td>\n",
       "      <td>Canada</td>\n",
       "      <td>delivered</td>\n",
       "      <td>76.87</td>\n",
       "      <td>Discover</td>\n",
       "      <td>USPS</td>\n",
       "      <td>6.27</td>\n",
       "    </tr>\n",
       "    <tr>\n",
       "      <th>2</th>\n",
       "      <td>4</td>\n",
       "      <td>2022-04-28</td>\n",
       "      <td>Carree Henworth</td>\n",
       "      <td>NaN</td>\n",
       "      <td>Canada</td>\n",
       "      <td>pending</td>\n",
       "      <td>152.30</td>\n",
       "      <td>Discover</td>\n",
       "      <td>USPS</td>\n",
       "      <td>12.74</td>\n",
       "    </tr>\n",
       "  </tbody>\n",
       "</table>\n",
       "</div>"
      ],
      "text/plain": [
       "   orderid   orderdate         custname                   custemail  \\\n",
       "0        2  2023-03-24   Frayda Pepperd  fpepperd0@sciencedaily.com   \n",
       "1        3  2020-02-23      Loy Siberry      lsiberry1@so-net.ne.jp   \n",
       "2        4  2022-04-28  Carree Henworth                         NaN   \n",
       "\n",
       "  custcountry orderstatus  ordertotal ordercreditcard ordershipvia  \\\n",
       "0      Canada   delivered      228.39        Discover          RPS   \n",
       "1      Canada   delivered       76.87        Discover         USPS   \n",
       "2      Canada     pending      152.30        Discover         USPS   \n",
       "\n",
       "   shippingtotal  \n",
       "0          12.05  \n",
       "1           6.27  \n",
       "2          12.74  "
      ]
     },
     "execution_count": 6,
     "metadata": {},
     "output_type": "execute_result"
    }
   ],
   "source": [
    "# PROMPT 1 read orders data into variable called \"orders\" and display the first few rows\n",
    "orders = pd.read_csv(\"https://raw.githubusercontent.com/mafudge/datasets/master/orders/sample-orders.csv\")\n",
    "orders.head(3)\n"
   ]
  },
  {
   "cell_type": "markdown",
   "metadata": {},
   "source": [
    "## What does the data look like?\n",
    "\n",
    "This code uses `info()` to get information about the columns and datatypes of the dataframe.\n"
   ]
  },
  {
   "cell_type": "code",
   "execution_count": 7,
   "metadata": {},
   "outputs": [
    {
     "name": "stdout",
     "output_type": "stream",
     "text": [
      "<class 'pandas.core.frame.DataFrame'>\n",
      "RangeIndex: 1000 entries, 0 to 999\n",
      "Data columns (total 10 columns):\n",
      " #   Column                  Non-Null Count  Dtype  \n",
      "---  ------                  --------------  -----  \n",
      " 0   flight_number           1000 non-null   int64  \n",
      " 1   departure_airport_code  1000 non-null   object \n",
      " 2   arrival_airport_code    1000 non-null   object \n",
      " 3   departure_date          1000 non-null   object \n",
      " 4   arrival_date            1000 non-null   object \n",
      " 5   departure_time          1000 non-null   object \n",
      " 6   arrival_time            1000 non-null   object \n",
      " 7   flight_duration         1000 non-null   float64\n",
      " 8   airline_name            993 non-null    object \n",
      " 9   aircraft_type           1000 non-null   object \n",
      "dtypes: float64(1), int64(1), object(8)\n",
      "memory usage: 78.3+ KB\n"
     ]
    }
   ],
   "source": [
    "flights.info()"
   ]
  },
  {
   "cell_type": "code",
   "execution_count": 9,
   "metadata": {},
   "outputs": [
    {
     "name": "stdout",
     "output_type": "stream",
     "text": [
      "Hi George\n",
      "<class 'pandas.core.frame.DataFrame'>\n",
      "RangeIndex: 1000 entries, 0 to 999\n",
      "Data columns (total 10 columns):\n",
      " #   Column           Non-Null Count  Dtype  \n",
      "---  ------           --------------  -----  \n",
      " 0   orderid          1000 non-null   int64  \n",
      " 1   orderdate        1000 non-null   object \n",
      " 2   custname         1000 non-null   object \n",
      " 3   custemail        946 non-null    object \n",
      " 4   custcountry      1000 non-null   object \n",
      " 5   orderstatus      1000 non-null   object \n",
      " 6   ordertotal       1000 non-null   float64\n",
      " 7   ordercreditcard  1000 non-null   object \n",
      " 8   ordershipvia     1000 non-null   object \n",
      " 9   shippingtotal    944 non-null    float64\n",
      "dtypes: float64(2), int64(1), object(7)\n",
      "memory usage: 78.3+ KB\n"
     ]
    }
   ],
   "source": [
    "# PROMPT 2 - get information for the \"orders\" dataframe\n",
    "# does every order have an email?\n",
    "def hi(name):\n",
    "    print(f\"Hi {name}\")\n",
    "    \n",
    "hi(\"George\")\n",
    "\n",
    "orders.info()"
   ]
  },
  {
   "cell_type": "markdown",
   "metadata": {},
   "source": [
    "## What are the different aircraft names?\n",
    "\n",
    "This code will use `value_counts()` to produce counts of the different aircraft names"
   ]
  },
  {
   "cell_type": "code",
   "execution_count": 10,
   "metadata": {},
   "outputs": [
    {
     "data": {
      "text/plain": [
       "aircraft_type\n",
       "Embraer E190    229\n",
       "Boeing 777      217\n",
       "Boeing 747      149\n",
       "Airbus A350     141\n",
       "Boeing 737      134\n",
       "Airbus A320     130\n",
       "Name: count, dtype: int64"
      ]
     },
     "execution_count": 10,
     "metadata": {},
     "output_type": "execute_result"
    }
   ],
   "source": [
    "flights[\"aircraft_type\"].value_counts()"
   ]
  },
  {
   "cell_type": "code",
   "execution_count": 11,
   "metadata": {
    "tags": []
   },
   "outputs": [
    {
     "data": {
      "text/plain": [
       "Index(['orderid', 'orderdate', 'custname', 'custemail', 'custcountry',\n",
       "       'orderstatus', 'ordertotal', 'ordercreditcard', 'ordershipvia',\n",
       "       'shippingtotal'],\n",
       "      dtype='object')"
      ]
     },
     "execution_count": 11,
     "metadata": {},
     "output_type": "execute_result"
    }
   ],
   "source": [
    "orders.columns"
   ]
  },
  {
   "cell_type": "code",
   "execution_count": 12,
   "metadata": {
    "tags": []
   },
   "outputs": [
    {
     "data": {
      "text/plain": [
       "orderstatus\n",
       "delivered    584\n",
       "shipped      210\n",
       "pending      206\n",
       "Name: count, dtype: int64"
      ]
     },
     "execution_count": 12,
     "metadata": {},
     "output_type": "execute_result"
    }
   ],
   "source": [
    "# PROMPT 3  - get the value counts for order status\n",
    "orders['orderstatus'].value_counts()"
   ]
  },
  {
   "cell_type": "code",
   "execution_count": null,
   "metadata": {},
   "outputs": [],
   "source": []
  },
  {
   "cell_type": "markdown",
   "metadata": {},
   "source": [
    "## This prints a list of unique airline names\n",
    "\n",
    "We use `unique()` on the series to get a unique list of value, and `dropna()` to get rid of the empty values."
   ]
  },
  {
   "cell_type": "code",
   "execution_count": 13,
   "metadata": {},
   "outputs": [
    {
     "name": "stdout",
     "output_type": "stream",
     "text": [
      "['American', 'Delta', 'Jetblue', 'Southwest', 'United']\n"
     ]
    }
   ],
   "source": [
    "airlines = sorted(list(flights['airline_name'].dropna().unique()))\n",
    "print(airlines)"
   ]
  },
  {
   "cell_type": "code",
   "execution_count": 14,
   "metadata": {},
   "outputs": [
    {
     "name": "stdout",
     "output_type": "stream",
     "text": [
      "['Canada', 'United States', 'Mexico']\n"
     ]
    }
   ],
   "source": [
    "# PROMPT 4 - get a unique list of the customer country\n",
    "customer_countries = sorted(list(orders['custcountry'].dropna().unique()))\n",
    "print(customer_countries)"
   ]
  },
  {
   "cell_type": "code",
   "execution_count": 16,
   "metadata": {
    "tags": []
   },
   "outputs": [
    {
     "name": "stdout",
     "output_type": "stream",
     "text": [
      "['FedEX', 'RPS', 'UPS', 'USPS']\n"
     ]
    }
   ],
   "source": [
    "# PROMPT 4a : generalize this to a function:\n",
    "def dedupe_series(series: pd.Series) -> list:\n",
    "    dedupe = sorted(list(series.dropna().unique()))\n",
    "    return dedupe\n",
    "\n",
    "ship = dedupe_series(orders['ordershipvia'])\n",
    "print(ship)"
   ]
  },
  {
   "cell_type": "markdown",
   "metadata": {},
   "source": [
    "## Create a drop-down list of airlines.\n",
    "\n",
    "this creates a drop-down selection widget based on the airline values"
   ]
  },
  {
   "cell_type": "code",
   "execution_count": 17,
   "metadata": {
    "tags": []
   },
   "outputs": [
    {
     "data": {
      "application/vnd.jupyter.widget-view+json": {
       "model_id": "e9243d1eab0844c3bf7e6242ec7343c0",
       "version_major": 2,
       "version_minor": 0
      },
      "text/plain": [
       "Dropdown(description='Airline', options=('American', 'Delta', 'Jetblue', 'Southwest', 'United'), value='Americ…"
      ]
     },
     "metadata": {},
     "output_type": "display_data"
    }
   ],
   "source": [
    "airline_dropdown = widgets.Dropdown(options=airlines, description=\"Airline\")\n",
    "display(airline_dropdown)"
   ]
  },
  {
   "cell_type": "code",
   "execution_count": null,
   "metadata": {
    "tags": []
   },
   "outputs": [],
   "source": [
    "# PROMPT 5 - create a dropdown of countries from orders\n"
   ]
  },
  {
   "cell_type": "markdown",
   "metadata": {
    "slideshow": {
     "slide_type": "slide"
    }
   },
   "source": [
    "## Get stats on the numerical columns\n",
    "\n",
    "The `describe()` method function will get statistics for the numerical values in the dataframe."
   ]
  },
  {
   "cell_type": "code",
   "execution_count": null,
   "metadata": {},
   "outputs": [],
   "source": [
    "flights.describe()"
   ]
  },
  {
   "cell_type": "code",
   "execution_count": null,
   "metadata": {},
   "outputs": [],
   "source": [
    "# PROMPT 6 - that is the least expensive order? Most expensive shipping amount?\n"
   ]
  },
  {
   "cell_type": "markdown",
   "metadata": {},
   "source": [
    "## Storing Min and Max in variables\n",
    "\n",
    "This example stores the shortest and longest flights in separate variables."
   ]
  },
  {
   "cell_type": "code",
   "execution_count": 18,
   "metadata": {},
   "outputs": [
    {
     "name": "stdout",
     "output_type": "stream",
     "text": [
      "1.02 15.99\n"
     ]
    }
   ],
   "source": [
    "shortest = flights['flight_duration'].min()\n",
    "longest = flights['flight_duration'].max()\n",
    "print(shortest, longest)"
   ]
  },
  {
   "cell_type": "code",
   "execution_count": 21,
   "metadata": {
    "tags": []
   },
   "outputs": [
    {
     "data": {
      "text/plain": [
       "249.19"
      ]
     },
     "execution_count": 21,
     "metadata": {},
     "output_type": "execute_result"
    }
   ],
   "source": [
    "# PROMPT 7 - store the largest and smallest orders order total in variables.\n",
    "orders['ordertotal'].min()\n",
    "orders['ordertotal'].max()"
   ]
  },
  {
   "cell_type": "markdown",
   "metadata": {},
   "source": [
    "## Creating a Range Slider widget\n",
    "\n",
    "This example creates a Range slider widget for flight duration, setting the upper and lower bounds to the min/max values."
   ]
  },
  {
   "cell_type": "code",
   "execution_count": null,
   "metadata": {
    "tags": []
   },
   "outputs": [],
   "source": [
    "flight_duration_slider = widgets.FloatRangeSlider(\n",
    "    min = shortest, max=longest, step=0.5, description=\"Duration\")\n",
    "display(flight_duration_slider)"
   ]
  },
  {
   "cell_type": "code",
   "execution_count": 22,
   "metadata": {
    "tags": []
   },
   "outputs": [
    {
     "data": {
      "text/html": [
       "<div>\n",
       "<style scoped>\n",
       "    .dataframe tbody tr th:only-of-type {\n",
       "        vertical-align: middle;\n",
       "    }\n",
       "\n",
       "    .dataframe tbody tr th {\n",
       "        vertical-align: top;\n",
       "    }\n",
       "\n",
       "    .dataframe thead th {\n",
       "        text-align: right;\n",
       "    }\n",
       "</style>\n",
       "<table border=\"1\" class=\"dataframe\">\n",
       "  <thead>\n",
       "    <tr style=\"text-align: right;\">\n",
       "      <th></th>\n",
       "      <th>flight_number</th>\n",
       "      <th>departure_airport_code</th>\n",
       "      <th>arrival_airport_code</th>\n",
       "      <th>departure_date</th>\n",
       "      <th>arrival_date</th>\n",
       "      <th>departure_time</th>\n",
       "      <th>arrival_time</th>\n",
       "      <th>flight_duration</th>\n",
       "      <th>airline_name</th>\n",
       "      <th>aircraft_type</th>\n",
       "    </tr>\n",
       "  </thead>\n",
       "  <tbody>\n",
       "    <tr>\n",
       "      <th>0</th>\n",
       "      <td>1350</td>\n",
       "      <td>KJP</td>\n",
       "      <td>VOG</td>\n",
       "      <td>2022-03-26</td>\n",
       "      <td>2022-03-07</td>\n",
       "      <td>5:04</td>\n",
       "      <td>23:25</td>\n",
       "      <td>10.96</td>\n",
       "      <td>United</td>\n",
       "      <td>Embraer E190</td>\n",
       "    </tr>\n",
       "    <tr>\n",
       "      <th>1</th>\n",
       "      <td>5381</td>\n",
       "      <td>FUN</td>\n",
       "      <td>POW</td>\n",
       "      <td>2022-11-01</td>\n",
       "      <td>2022-07-05</td>\n",
       "      <td>19:32</td>\n",
       "      <td>13:09</td>\n",
       "      <td>10.29</td>\n",
       "      <td>Southwest</td>\n",
       "      <td>Embraer E190</td>\n",
       "    </tr>\n",
       "    <tr>\n",
       "      <th>2</th>\n",
       "      <td>2892</td>\n",
       "      <td>ROR</td>\n",
       "      <td>COO</td>\n",
       "      <td>2022-11-09</td>\n",
       "      <td>2022-05-16</td>\n",
       "      <td>0:02</td>\n",
       "      <td>19:45</td>\n",
       "      <td>10.65</td>\n",
       "      <td>Delta</td>\n",
       "      <td>Boeing 747</td>\n",
       "    </tr>\n",
       "    <tr>\n",
       "      <th>3</th>\n",
       "      <td>2406</td>\n",
       "      <td>XGA</td>\n",
       "      <td>HCM</td>\n",
       "      <td>2022-01-09</td>\n",
       "      <td>2022-02-13</td>\n",
       "      <td>19:32</td>\n",
       "      <td>11:45</td>\n",
       "      <td>12.20</td>\n",
       "      <td>American</td>\n",
       "      <td>Boeing 737</td>\n",
       "    </tr>\n",
       "    <tr>\n",
       "      <th>4</th>\n",
       "      <td>1261</td>\n",
       "      <td>TDK</td>\n",
       "      <td>LKU</td>\n",
       "      <td>2022-02-07</td>\n",
       "      <td>2022-01-26</td>\n",
       "      <td>4:25</td>\n",
       "      <td>16:50</td>\n",
       "      <td>7.05</td>\n",
       "      <td>United</td>\n",
       "      <td>Boeing 737</td>\n",
       "    </tr>\n",
       "    <tr>\n",
       "      <th>...</th>\n",
       "      <td>...</td>\n",
       "      <td>...</td>\n",
       "      <td>...</td>\n",
       "      <td>...</td>\n",
       "      <td>...</td>\n",
       "      <td>...</td>\n",
       "      <td>...</td>\n",
       "      <td>...</td>\n",
       "      <td>...</td>\n",
       "      <td>...</td>\n",
       "    </tr>\n",
       "    <tr>\n",
       "      <th>995</th>\n",
       "      <td>9482</td>\n",
       "      <td>ICI</td>\n",
       "      <td>KNE</td>\n",
       "      <td>2022-06-05</td>\n",
       "      <td>2022-02-08</td>\n",
       "      <td>19:06</td>\n",
       "      <td>9:58</td>\n",
       "      <td>7.94</td>\n",
       "      <td>Delta</td>\n",
       "      <td>Boeing 777</td>\n",
       "    </tr>\n",
       "    <tr>\n",
       "      <th>996</th>\n",
       "      <td>7267</td>\n",
       "      <td>IXR</td>\n",
       "      <td>RPX</td>\n",
       "      <td>2022-02-05</td>\n",
       "      <td>2022-02-27</td>\n",
       "      <td>20:02</td>\n",
       "      <td>7:32</td>\n",
       "      <td>8.68</td>\n",
       "      <td>American</td>\n",
       "      <td>Embraer E190</td>\n",
       "    </tr>\n",
       "    <tr>\n",
       "      <th>997</th>\n",
       "      <td>6231</td>\n",
       "      <td>SXT</td>\n",
       "      <td>YIP</td>\n",
       "      <td>2022-09-05</td>\n",
       "      <td>2022-07-15</td>\n",
       "      <td>16:19</td>\n",
       "      <td>0:39</td>\n",
       "      <td>8.82</td>\n",
       "      <td>Delta</td>\n",
       "      <td>Airbus A320</td>\n",
       "    </tr>\n",
       "    <tr>\n",
       "      <th>998</th>\n",
       "      <td>5392</td>\n",
       "      <td>GMR</td>\n",
       "      <td>ISE</td>\n",
       "      <td>2022-07-14</td>\n",
       "      <td>2022-10-29</td>\n",
       "      <td>23:13</td>\n",
       "      <td>23:08</td>\n",
       "      <td>9.57</td>\n",
       "      <td>American</td>\n",
       "      <td>Embraer E190</td>\n",
       "    </tr>\n",
       "    <tr>\n",
       "      <th>999</th>\n",
       "      <td>6356</td>\n",
       "      <td>0</td>\n",
       "      <td>IGA</td>\n",
       "      <td>2022-11-21</td>\n",
       "      <td>2022-03-29</td>\n",
       "      <td>1:53</td>\n",
       "      <td>21:11</td>\n",
       "      <td>3.40</td>\n",
       "      <td>American</td>\n",
       "      <td>Boeing 747</td>\n",
       "    </tr>\n",
       "  </tbody>\n",
       "</table>\n",
       "<p>1000 rows × 10 columns</p>\n",
       "</div>"
      ],
      "text/plain": [
       "     flight_number departure_airport_code arrival_airport_code departure_date  \\\n",
       "0             1350                    KJP                  VOG     2022-03-26   \n",
       "1             5381                    FUN                  POW     2022-11-01   \n",
       "2             2892                    ROR                  COO     2022-11-09   \n",
       "3             2406                    XGA                  HCM     2022-01-09   \n",
       "4             1261                    TDK                  LKU     2022-02-07   \n",
       "..             ...                    ...                  ...            ...   \n",
       "995           9482                    ICI                  KNE     2022-06-05   \n",
       "996           7267                    IXR                  RPX     2022-02-05   \n",
       "997           6231                    SXT                  YIP     2022-09-05   \n",
       "998           5392                    GMR                  ISE     2022-07-14   \n",
       "999           6356                      0                  IGA     2022-11-21   \n",
       "\n",
       "    arrival_date departure_time arrival_time  flight_duration airline_name  \\\n",
       "0     2022-03-07           5:04        23:25            10.96       United   \n",
       "1     2022-07-05          19:32        13:09            10.29    Southwest   \n",
       "2     2022-05-16           0:02        19:45            10.65        Delta   \n",
       "3     2022-02-13          19:32        11:45            12.20     American   \n",
       "4     2022-01-26           4:25        16:50             7.05       United   \n",
       "..           ...            ...          ...              ...          ...   \n",
       "995   2022-02-08          19:06         9:58             7.94        Delta   \n",
       "996   2022-02-27          20:02         7:32             8.68     American   \n",
       "997   2022-07-15          16:19         0:39             8.82        Delta   \n",
       "998   2022-10-29          23:13        23:08             9.57     American   \n",
       "999   2022-03-29           1:53        21:11             3.40     American   \n",
       "\n",
       "    aircraft_type  \n",
       "0    Embraer E190  \n",
       "1    Embraer E190  \n",
       "2      Boeing 747  \n",
       "3      Boeing 737  \n",
       "4      Boeing 737  \n",
       "..            ...  \n",
       "995    Boeing 777  \n",
       "996  Embraer E190  \n",
       "997   Airbus A320  \n",
       "998  Embraer E190  \n",
       "999    Boeing 747  \n",
       "\n",
       "[1000 rows x 10 columns]"
      ]
     },
     "execution_count": 22,
     "metadata": {},
     "output_type": "execute_result"
    }
   ],
   "source": [
    "# PROMPT 8 - Create a range slider for orders using min/max approach\n",
    "flights"
   ]
  },
  {
   "cell_type": "markdown",
   "metadata": {},
   "source": [
    "## Let's engineer a column!\n",
    "\n",
    "This example will create a YEAR column by slicing the first 4 characters from the date. Since the data type of the `departure_date` is Object we must use the `.str` property to get the string value.\n"
   ]
  },
  {
   "cell_type": "code",
   "execution_count": null,
   "metadata": {},
   "outputs": [],
   "source": [
    "flights[\"departure_year\"] = flights[\"departure_date\"].str[:4]\n",
    "flights.head()"
   ]
  },
  {
   "cell_type": "code",
   "execution_count": null,
   "metadata": {},
   "outputs": [],
   "source": [
    "# PROMPT 9 - create an order year column!\n"
   ]
  },
  {
   "cell_type": "code",
   "execution_count": null,
   "metadata": {
    "tags": []
   },
   "outputs": [],
   "source": [
    "# prompt 10 - create an order month column!\n"
   ]
  },
  {
   "cell_type": "markdown",
   "metadata": {},
   "source": [
    "## United airlines flights\n",
    "\n",
    "This example uses a boolean filter to create a smaller dataframe of just United airlines flights."
   ]
  },
  {
   "cell_type": "code",
   "execution_count": null,
   "metadata": {},
   "outputs": [],
   "source": [
    "ua_flights = flights[\n",
    "    flights[\"airline_name\"] == \"United\"\n",
    "]\n",
    "ua_flights"
   ]
  },
  {
   "cell_type": "code",
   "execution_count": null,
   "metadata": {
    "tags": []
   },
   "outputs": [],
   "source": [
    "# Prompt 10 - display only orders that were delivered\n"
   ]
  },
  {
   "cell_type": "markdown",
   "metadata": {},
   "source": [
    "## Dataframe Boolean Filters with logical And\n",
    "\n",
    "Sometimes you want to filter a dataframe on two conditions for example:\n",
    "\n",
    "\n",
    "    - American Airlines AND\n",
    "    - Boeing 777 aircraft\n",
    "\n",
    "To do this we must use the dataframe AND operator: `&`\n",
    "\n",
    "Notice how we must include `()` around each boolean filter."
   ]
  },
  {
   "cell_type": "code",
   "execution_count": null,
   "metadata": {},
   "outputs": [],
   "source": [
    "special_flights = flights[ \n",
    "    (flights[\"airline_name\"] == \"American\") & \n",
    "    (flights[\"aircraft_type\"] == \"Boeing 777\") \n",
    "]\n",
    "special_flights.head()"
   ]
  },
  {
   "cell_type": "code",
   "execution_count": null,
   "metadata": {
    "tags": []
   },
   "outputs": [],
   "source": [
    "# PROMPT 11 - show \"special orders\": those orders delivered to the Canada in year 2023\n"
   ]
  },
  {
   "cell_type": "markdown",
   "metadata": {},
   "source": [
    "## Flight Tracker\n",
    "\n",
    "Inputs:\n",
    "\n",
    "    - Range for the duration of the flight\n",
    "    - Airline\n",
    "    \n",
    "Outputs:\n",
    "    \n",
    "    -DataFrame of flights matching that criteira\n"
   ]
  },
  {
   "cell_type": "code",
   "execution_count": 26,
   "metadata": {
    "tags": []
   },
   "outputs": [
    {
     "data": {
      "application/vnd.jupyter.widget-view+json": {
       "model_id": "c544631f4aef4441990b27e1a628b351",
       "version_major": 2,
       "version_minor": 0
      },
      "text/plain": [
       "interactive(children=(Dropdown(description='Airline', options=('American', 'Delta', 'Jetblue', 'Southwest', 'U…"
      ]
     },
     "metadata": {},
     "output_type": "display_data"
    }
   ],
   "source": [
    "# Get Data\n",
    "airlines = sorted(list(flights['airline_name'].dropna().unique()))\n",
    "shortest = flights['flight_duration'].min()\n",
    "longest = flights['flight_duration'].max()\n",
    "\n",
    "# Make widgets\n",
    "airline_dropdown = widgets.Dropdown(options=airlines, description=\"Airline\")\n",
    "flight_duration_slider = widgets.FloatRangeSlider(\n",
    "    min = shortest, max=longest, step=0.5, description=\"Duration\")\n",
    "\n",
    "@interact_manual(airline=airline_dropdown, duration=flight_duration_slider)\n",
    "def on_click(airline, duration):\n",
    "    filtered_flights = flights[\n",
    "        (flights[\"airline_name\"] == airline) &\n",
    "        (flights[\"flight_duration\"] >= duration[0]) &\n",
    "        (flights[\"flight_duration\"] <= duration[1])\n",
    "    ]\n",
    "    display(filtered_flights) \n"
   ]
  },
  {
   "cell_type": "markdown",
   "metadata": {},
   "source": [
    "## Order Report\n",
    "\n",
    "Inputs:\n",
    "\n",
    "    - Range Slider for the order amount total\n",
    "    - Year of order, Order Status, Customer Country as drop downs\n",
    "    \n",
    "Outputs:\n",
    "    \n",
    "    -DataFrame of orders matching the selected criteria\n"
   ]
  },
  {
   "cell_type": "code",
   "execution_count": 27,
   "metadata": {
    "tags": []
   },
   "outputs": [
    {
     "data": {
      "text/plain": [
       "Index(['orderid', 'orderdate', 'custname', 'custemail', 'custcountry',\n",
       "       'orderstatus', 'ordertotal', 'ordercreditcard', 'ordershipvia',\n",
       "       'shippingtotal'],\n",
       "      dtype='object')"
      ]
     },
     "execution_count": 27,
     "metadata": {},
     "output_type": "execute_result"
    }
   ],
   "source": [
    "orders.columns # a refresher of the available columns"
   ]
  },
  {
   "cell_type": "code",
   "execution_count": 28,
   "metadata": {
    "tags": []
   },
   "outputs": [
    {
     "data": {
      "application/vnd.jupyter.widget-view+json": {
       "model_id": "f3984f62e02a4d029a046254c33b73df",
       "version_major": 2,
       "version_minor": 0
      },
      "text/plain": [
       "interactive(children=(Dropdown(description='country', options=('Canada', 'Mexico', 'United States'), value='Ca…"
      ]
     },
     "metadata": {},
     "output_type": "display_data"
    }
   ],
   "source": [
    "# PROMPT 12 - make the order report!\n",
    "country_list = dedupe_series(orders['custcountry'])\n",
    "status_list = dedupe_series(orders['orderstatus'])\n",
    "\n",
    "# main interact \n",
    "@interact_manual(country=country_list, status=status_list)\n",
    "def on_click(country, status):\n",
    "    print(country, status)\n",
    "    "
   ]
  },
  {
   "cell_type": "code",
   "execution_count": null,
   "metadata": {},
   "outputs": [],
   "source": []
  },
  {
   "cell_type": "code",
   "execution_count": 29,
   "metadata": {},
   "outputs": [
    {
     "name": "stdout",
     "output_type": "stream",
     "text": [
      "✅ TIMESTAMP  : 2024-11-06 17:06\n",
      "✅ COURSE     : ist256\n",
      "✅ TERM       : fall2024\n",
      "✅ USER       : mafudge@syr.edu\n",
      "✅ STUDENT    : False\n",
      "✅ PATH       : ist256/fall2024/lessons/10-Pandas-I/SmallGroup-PandasI.ipynb\n",
      "✅ ASSIGNMENT : SmallGroup-PandasI.ipynb\n",
      "✅ POINTS     : 3\n",
      "✅ DUE DATE   : 2024-11-06 23:59\n",
      "✅ LATE       : False\n",
      "💣 FILE CHECK ERROR 💣\n",
      "❌ Error Details: 404 Client Error: Not Found for url: https://cass.app.cent-su.org/courses/ist256-fall2024/submission/SmallGroup-PandasI.ipynb/submit/mafudge@syr.edu/fileinfo/SmallGroup-PandasI.ipynb\n"
     ]
    }
   ],
   "source": [
    "# run this code to turn in your work!\n",
    "from casstools.assignment import Assignment\n",
    "Assignment().submit()"
   ]
  },
  {
   "cell_type": "code",
   "execution_count": null,
   "metadata": {},
   "outputs": [],
   "source": []
  }
 ],
 "metadata": {
  "anaconda-cloud": {},
  "kernelspec": {
   "display_name": "Python 3 (ipykernel)",
   "language": "python",
   "name": "python3"
  },
  "language_info": {
   "codemirror_mode": {
    "name": "ipython",
    "version": 3
   },
   "file_extension": ".py",
   "mimetype": "text/x-python",
   "name": "python",
   "nbconvert_exporter": "python",
   "pygments_lexer": "ipython3",
   "version": "3.11.7"
  },
  "toc": {
   "base_numbering": 1,
   "nav_menu": {},
   "number_sections": false,
   "sideBar": false,
   "skip_h1_title": false,
   "title_cell": "Table of Contents",
   "title_sidebar": "Contents",
   "toc_cell": false,
   "toc_position": {},
   "toc_section_display": false,
   "toc_window_display": false
  },
  "varInspector": {
   "cols": {
    "lenName": 16,
    "lenType": 16,
    "lenVar": 40
   },
   "kernels_config": {
    "python": {
     "delete_cmd_postfix": "",
     "delete_cmd_prefix": "del ",
     "library": "var_list.py",
     "varRefreshCmd": "print(var_dic_list())"
    },
    "r": {
     "delete_cmd_postfix": ") ",
     "delete_cmd_prefix": "rm(",
     "library": "var_list.r",
     "varRefreshCmd": "cat(var_dic_list()) "
    }
   },
   "types_to_exclude": [
    "module",
    "function",
    "builtin_function_or_method",
    "instance",
    "_Feature"
   ],
   "window_display": false
  }
 },
 "nbformat": 4,
 "nbformat_minor": 4
}
